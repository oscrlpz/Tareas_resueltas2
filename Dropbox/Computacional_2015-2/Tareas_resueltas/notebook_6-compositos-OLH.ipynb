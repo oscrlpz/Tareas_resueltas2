{
 "metadata": {
  "language": "Julia",
  "name": "",
  "signature": "sha256:c15f138403b44df80dba30bb6a7d6f5ce2295593612af9bfc84ec9ae13af9de0"
 },
 "nbformat": 3,
 "nbformat_minor": 0,
 "worksheets": [
  {
   "cells": [
    {
     "cell_type": "markdown",
     "metadata": {},
     "source": [
      "**Notebook 6. Tipos Compuestos**\n",
      "\n",
      "Soluciones"
     ]
    },
    {
     "cell_type": "markdown",
     "metadata": {},
     "source": [
      "[1] \n",
      "\n",
      "(i) \u00bfC\u00f3mo representar\u00edas a una part\u00edcula en 1D con posici\u00f3n, velocidad y masa en Julia?\n"
     ]
    },
    {
     "cell_type": "markdown",
     "metadata": {},
     "source": [
      "Tendr\u00eda que ser como un arreglo que permitiera tener los 3 n\u00fameros dentro de un solo objeto. Esto es el primer elemnto del arreglo para la posici\u00f3n, el segundo para la velocidad y el tercero para la masa."
     ]
    },
    {
     "cell_type": "code",
     "collapsed": false,
     "input": [
      "x=1\n",
      "v=1\n",
      "m=1\n",
      "particul=[x,v,m]"
     ],
     "language": "python",
     "metadata": {},
     "outputs": [
      {
       "metadata": {},
       "output_type": "pyout",
       "prompt_number": 57,
       "text": [
        "3-element Array{Int64,1}:\n",
        " 1\n",
        " 1\n",
        " 1"
       ]
      }
     ],
     "prompt_number": 57
    },
    {
     "cell_type": "markdown",
     "metadata": {},
     "source": [
      "---------------\n",
      "(ii) \u00bfC\u00f3mo mover\u00edas la part\u00edcula en un paso $\\delta t$?\n"
     ]
    },
    {
     "cell_type": "markdown",
     "metadata": {},
     "source": [
      "Supongamos que la part\u00edcula esta compuesta por tres entradas, la posici\u00f3n $x$, la velocidad $v$ y la masa $m$. La entrada de la posicion deberia de operarse como:\n",
      "$$x' = x + v \\delta t, $$\n",
      "\n",
      "donde $x'$ es la nueva posici\u00f3n.\n",
      " \n",
      "Como no se conoce la aceleraci\u00f3n entonces se considerar\u00e1 un movimiento rectil\u00edneo uniforme. La entrada de la velocidad y la masa se mantienen constantes.\n",
      "\n",
      "Por medio de una funci\u00f3n ser\u00eda posible operar de esta manera, \u00fanicamente en la entrada del arreglo de la part\u00edcula correspondiente a la posici\u00f3n. Un ejemplo de funci\u00f3n se define a continuaci\u00f3n que realiza el movimiento de la particula `particul` un tiempo $\\delta t$."
     ]
    },
    {
     "cell_type": "code",
     "collapsed": false,
     "input": [
      "function mov(x,\u03b4t)\n",
      "    xprima=x[1]+x[2]*\u03b4t\n",
      "    res=[xprima, x[2],x[3]]\n",
      "end"
     ],
     "language": "python",
     "metadata": {},
     "outputs": [
      {
       "metadata": {},
       "output_type": "pyout",
       "prompt_number": 64,
       "text": [
        "mov (generic function with 1 method)"
       ]
      }
     ],
     "prompt_number": 64
    },
    {
     "cell_type": "markdown",
     "metadata": {},
     "source": [
      "Evaluada para un $\\delta t= 2$:"
     ]
    },
    {
     "cell_type": "code",
     "collapsed": false,
     "input": [
      "mov(particul, 2)"
     ],
     "language": "python",
     "metadata": {},
     "outputs": [
      {
       "metadata": {},
       "output_type": "pyout",
       "prompt_number": 63,
       "text": [
        "3-element Array{Int64,1}:\n",
        " 3\n",
        " 1\n",
        " 1"
       ]
      }
     ],
     "prompt_number": 63
    },
    {
     "cell_type": "markdown",
     "metadata": {},
     "source": [
      "----------------\n",
      "(iii) \u00bfSi necesitas otra part\u00edcula con las mismas propiedades, qu\u00e9 har\u00edas?\n",
      "\n",
      "Meterle un nuevo rengl\u00f3n al arreglo, volviendolo un arreglo $3 \\times 2$. \u00edcula 1 y el segundo a la apart\u00edcula 2. El primer rengl\u00f3n corresponder\u00eda a la part\u00edcula 1 y el segundo rengl\u00f3n a la part\u00edcula 2. La columna 1 ser\u00eda de puras posiciones, la dos de velocidades y la tres de masas.\n",
      "\n",
      "Si se quiere desplazar a las part\u00edculas ser\u00e1 necesario hacer la operaci\u00f3n ya mencionada en el inciso (ii) sobre los elementos de la primera columna del arreglo de las part\u00edculas.\n",
      "\n",
      "\n",
      "\n",
      "--------------------"
     ]
    },
    {
     "cell_type": "markdown",
     "metadata": {},
     "source": [
      "(iv) Para $N$ tales part\u00edculas, \u00bfqu\u00e9 podr\u00edas hacer?\n",
      "\n",
      "Extender el arreglo a uno donde haya $N$ renglones y 3 columnas.\n",
      "______\n"
     ]
    },
    {
     "cell_type": "markdown",
     "metadata": {},
     "source": [
      "[2] \n",
      "\n",
      "Define un tipo que se llama `Particula`, que tiene variables para la posici\u00f3n, velocidad y masa en una dimensi\u00f3n."
     ]
    },
    {
     "cell_type": "code",
     "collapsed": false,
     "input": [
      "type Particula\n",
      "    x::Float64\n",
      "    v::Float64\n",
      "    m::Float64\n",
      "end"
     ],
     "language": "python",
     "metadata": {},
     "outputs": [],
     "prompt_number": 2
    },
    {
     "cell_type": "markdown",
     "metadata": {},
     "source": [
      "________________\n",
      "[3] \n",
      "\n",
      "Experimenta para ver c\u00f3mo crear un objeto de tipo `Particula`.  [Pista: piensa en funciones]\n",
      "end"
     ]
    },
    {
     "cell_type": "code",
     "collapsed": false,
     "input": [
      "part1=Particula(1,2,3)"
     ],
     "language": "python",
     "metadata": {},
     "outputs": [
      {
       "metadata": {},
       "output_type": "pyout",
       "prompt_number": 3,
       "text": [
        "Particula(1.0,2.0,3.0)"
       ]
      }
     ],
     "prompt_number": 3
    },
    {
     "cell_type": "code",
     "collapsed": false,
     "input": [
      "part2=Particula(2*part1.x,part1.v/2,part1.m+3)"
     ],
     "language": "python",
     "metadata": {},
     "outputs": [
      {
       "metadata": {},
       "output_type": "pyout",
       "prompt_number": 4,
       "text": [
        "Particula(2.0,1.0,6.0)"
       ]
      }
     ],
     "prompt_number": 4
    },
    {
     "cell_type": "markdown",
     "metadata": {},
     "source": [
      "_____________\n",
      "[4]\n",
      "\n",
      "\u00bfC\u00f3mo podemos definir una funci\u00f3n `mover` que mueve la part\u00edcula en un paso de tiempo $\\delta t$? [Pista: Para especificar que un objeto `t` es de tipo `MiTipo`, usamos la sintaxis `t::MiTipo`.]"
     ]
    },
    {
     "cell_type": "code",
     "collapsed": false,
     "input": [
      "function mover(p::Particula,\u03b4t::Real)\n",
      "    Particula(p.x+p.v*\u03b4t,p.v,p.m)\n",
      "end    "
     ],
     "language": "python",
     "metadata": {},
     "outputs": [
      {
       "metadata": {},
       "output_type": "pyout",
       "prompt_number": 5,
       "text": [
        "mover (generic function with 1 method)"
       ]
      }
     ],
     "prompt_number": 5
    },
    {
     "cell_type": "code",
     "collapsed": false,
     "input": [
      "mover(part1,2)"
     ],
     "language": "python",
     "metadata": {},
     "outputs": [
      {
       "metadata": {},
       "output_type": "pyout",
       "prompt_number": 6,
       "text": [
        "Particula(5.0,2.0,3.0)"
       ]
      }
     ],
     "prompt_number": 6
    },
    {
     "cell_type": "code",
     "collapsed": false,
     "input": [
      "mover(Particula(1,1,1),2.0)"
     ],
     "language": "python",
     "metadata": {},
     "outputs": [
      {
       "metadata": {},
       "output_type": "pyout",
       "prompt_number": 7,
       "text": [
        "Particula(3.0,1.0,1.0)"
       ]
      }
     ],
     "prompt_number": 7
    },
    {
     "cell_type": "markdown",
     "metadata": {},
     "source": [
      "-------------------\n",
      "\n",
      "[5]\n",
      "\n",
      "Define un objeto `Gas` que representa $N$ part\u00edculas, as\u00ed como una funci\u00f3n `mover` que mueve el gas."
     ]
    },
    {
     "cell_type": "code",
     "collapsed": false,
     "input": [
      "type Gas\n",
      "    p1::Particula\n",
      "    p2::Particula\n",
      "    p3::Particula\n",
      "end"
     ],
     "language": "python",
     "metadata": {},
     "outputs": [],
     "prompt_number": 8
    },
    {
     "cell_type": "code",
     "collapsed": false,
     "input": [
      "part3=Particula(1,2,1)"
     ],
     "language": "python",
     "metadata": {},
     "outputs": [
      {
       "metadata": {},
       "output_type": "pyout",
       "prompt_number": 9,
       "text": [
        "Particula(1.0,2.0,1.0)"
       ]
      }
     ],
     "prompt_number": 9
    },
    {
     "cell_type": "code",
     "collapsed": false,
     "input": [
      "gas1=Gas(part1,part2,part3)"
     ],
     "language": "python",
     "metadata": {},
     "outputs": [
      {
       "metadata": {},
       "output_type": "pyout",
       "prompt_number": 10,
       "text": [
        "Gas(Particula(1.0,2.0,3.0),Particula(2.0,1.0,6.0),Particula(1.0,2.0,1.0))"
       ]
      }
     ],
     "prompt_number": 10
    },
    {
     "cell_type": "code",
     "collapsed": false,
     "input": [
      "function mover(g::Gas,\u03b4t::Real)\n",
      "    Gas(mover(g.p1,\u03b4t), mover(g.p2,\u03b4t), mover(g.p3,\u03b4t))\n",
      "end"
     ],
     "language": "python",
     "metadata": {},
     "outputs": [
      {
       "metadata": {},
       "output_type": "pyout",
       "prompt_number": 11,
       "text": [
        "mover (generic function with 2 methods)"
       ]
      }
     ],
     "prompt_number": 11
    },
    {
     "cell_type": "code",
     "collapsed": false,
     "input": [
      "mover(gas1,2.0)"
     ],
     "language": "python",
     "metadata": {},
     "outputs": [
      {
       "metadata": {},
       "output_type": "pyout",
       "prompt_number": 12,
       "text": [
        "Gas(Particula(5.0,2.0,3.0),Particula(4.0,1.0,6.0),Particula(5.0,2.0,1.0))"
       ]
      }
     ],
     "prompt_number": 12
    },
    {
     "cell_type": "markdown",
     "metadata": {},
     "source": [
      "---------------------\n",
      "[6]\n",
      "\n",
      "Considera una estructura compuesta que denotaremos\n",
      "${\\overline v} = (f_v, d_v)$, que consta de dos campos `f_v` y `d_v`, que son flotantes. Esta estructura est\u00e1 definida de tal manera que se cumplen las siguientes propiedades:\n",
      "\n",
      "\\begin{align}\n",
      "{\\overline c} &= (c,0), &\\textrm{ para toda constante $c$},\\\\\n",
      "{\\overline x} &= (x_0,1), &\\textrm{para toda variable independiente $x = x_0$},\\\\\n",
      "{\\overline v} \\pm {\\overline w} & =  (f_v \\pm f_w, d_v \\pm d_w),\\\\\n",
      "{\\overline v} \\cdot {\\overline w} & =  (f_v \\cdot f_w, f_v \\cdot d_w + d_v \\cdot f_w),\\\\\n",
      "\\frac{{\\overline v}}{{\\overline w}} & =  \n",
      "\\left( \\frac{f_v}{f_w}, \\frac{d_v \\cdot f_w - f_v \\cdot d_w}{f_w^2} \\right),\\\\\n",
      "{\\overline u}^\\alpha &= (f_u^\\alpha, \\alpha f_u^{\\alpha-1} d_u), &\\textrm{donde $\\alpha$ \n",
      "es un n\u00famero real}.\n",
      "\\end{align}\n",
      "\n",
      "\n",
      "i. Implementa esto usando Julia."
     ]
    },
    {
     "cell_type": "markdown",
     "metadata": {},
     "source": [
      "La manera de implementar esto ser\u00e1 agregar metodos adicionales a las funciones de suma, resta, multiplicaci\u00f3n, divisi\u00f3n y potencia que permitan realizar estas operaciones para el tipo definido (el cual llame FD)."
     ]
    },
    {
     "cell_type": "code",
     "collapsed": false,
     "input": [
      "type FD\n",
      "    f::Float64\n",
      "    d::Float64\n",
      "end\n",
      "\n",
      "\n",
      "function FD(c)\n",
      "    FD(c,0.0)\n",
      "end\n",
      "\n",
      "################# Aritm\u00e9tica ####################\n",
      "\n",
      "# Sumas\n",
      "\n",
      "function +(x::FD,y::FD)\n",
      "    FD(x.f+y.f,x.d+y.d)\n",
      "end\n",
      "\n",
      "function +(x::Real,y::FD) # esto es lo del inciso iv de \u00e9ste ejercicio\n",
      "    FD(x+y.f,y.d)\n",
      "end\n",
      "\n",
      "function +(x::FD,y::Real # esto es lo del inciso iv de \u00e9ste ejercicio\n",
      "    FD(x.f+y,x.d)\n",
      "end\n",
      "\n",
      "#Restas\n",
      "function -(x::FD,y::FD)\n",
      "    FD(x.f-y.f,x.d-y.d)\n",
      "end\n",
      "\n",
      "function -(x::Real,y::FD) # esto es lo del inciso iv de \u00e9ste ejercicio\n",
      "    FD(x-y.f,-y.d)\n",
      "end\n",
      "\n",
      "function -(x::FD,y::Real) # esto es lo del inciso iv de \u00e9ste ejercicio\n",
      "    FD(x.f-y,x.d)\n",
      "end\n",
      "\n",
      "#Multiplicaciones\n",
      "function *(x::FD,y::FD)\n",
      "    FD(x.f*y.f, x.f*y.d+y.f*x.d)\n",
      "end\n",
      "\n",
      "function *(x::Real,y::FD)\n",
      "    FD(x*y.f, x*y.d)\n",
      "end\n",
      "\n",
      "function *(x::FD,y::Real)\n",
      "    FD(x.f*y, x.d*y)\n",
      "end\n",
      "\n",
      "#Divisiones\n",
      "function /(x::FD,y::Real)\n",
      "    FD(x.f/y, x.d/y)\n",
      "end\n",
      "\n",
      "function /(x::FD,y::FD)\n",
      "    FD(x.f/y.f, (y.f*x.d-x.f*y.d)/y.f^2)\n",
      "end\n",
      "\n",
      "#Potencia\n",
      "function ^(x::FD,a::Integer)\n",
      "    FD(x.f^a,a*x.f^(a-1)*x.d)\n",
      "end\n",
      "\n",
      "function ^(x::FD,a::FloatingPoint)\n",
      "    FD(x.f^a,a*x.f^(a-1)*x.d)\n",
      "end"
     ],
     "language": "python",
     "metadata": {},
     "outputs": [
      {
       "metadata": {},
       "output_type": "pyout",
       "prompt_number": 13,
       "text": [
        "^ (generic function with 47 methods)"
       ]
      }
     ],
     "prompt_number": 13
    },
    {
     "cell_type": "markdown",
     "metadata": {},
     "source": [
      "En el cuadro anterior defino el tipo `FD` y m\u00e9todos adicionales para las funciones aritm\u00e9ticas que se piden. \n",
      "\n",
      "- En el caso de la suma y resta me adelante un poco al inciso (iv) y tambien defin\u00ed la suma y resta entre un `Real` y un `FD`.\n",
      "\n",
      "- Para la multiplicaci\u00f3n entre un `Real` y un `FD` tuve que definirla dos veces para que hubiera conmutatividad.\n",
      "\n",
      "- El caso de la potencia fue necesario definir dos caso porque al parecer`Julia` trata de manera diferente el caso de los `Integer` y los `FloatingPoint`."
     ]
    },
    {
     "cell_type": "markdown",
     "metadata": {},
     "source": [
      "------------------\n",
      "ii. Define un polinomio $p(x)$ cuya variable independiente es $x$. Eval\u00faa el polinomio en ${\\overline x}$ (variable independiente $x$), en $x_0=0$. \u00bfQu\u00e9 interpretaci\u00f3n tiene *el valor* obtenido para $d_x$? Y si en lugar de un polinomio utilizas un cociente de polinomios $r({\\overline x}) = p({\\overline x}) / q({\\overline x})$?"
     ]
    },
    {
     "cell_type": "code",
     "collapsed": false,
     "input": [
      "function p(x)\n",
      "    x=FD(x,1.0) # tengo que scribir esto para que x=(x,1)\n",
      "    x^3+3x^2+2x-1\n",
      "end"
     ],
     "language": "python",
     "metadata": {},
     "outputs": [
      {
       "metadata": {},
       "output_type": "pyout",
       "prompt_number": 65,
       "text": [
        "p (generic function with 1 method)"
       ]
      }
     ],
     "prompt_number": 65
    },
    {
     "cell_type": "markdown",
     "metadata": {},
     "source": [
      "El valor $d_x$ es la derivada de $p(x) = x^3+3x^2+2x-1$ respecto a $x$, evaluada en el punto $x_0$. Ya que como se puede ver la derivada del polinomio es: \n",
      "\n",
      "$$\\frac{dp(x)}{dx}=3x^2 + 6x +2,$$ \n",
      "\n",
      "que evaluado en $x_0=0$ da como resultado $2$."
     ]
    },
    {
     "cell_type": "markdown",
     "metadata": {},
     "source": [
      "Para definir el cociente de polinomios $r(x)=p(x)/q(x)$ primero defino un segundo polinomio $q(x)$ de la siguiente manera:"
     ]
    },
    {
     "cell_type": "code",
     "collapsed": false,
     "input": [
      "function q(x)\n",
      "    x=FD(x,1.0)\n",
      "    x^2+3x+1\n",
      "end"
     ],
     "language": "python",
     "metadata": {},
     "outputs": [
      {
       "metadata": {},
       "output_type": "pyout",
       "prompt_number": 17,
       "text": [
        "q (generic function with 1 method)"
       ]
      }
     ],
     "prompt_number": 17
    },
    {
     "cell_type": "markdown",
     "metadata": {},
     "source": [
      "Y el cociente $r(x)$ queda como:"
     ]
    },
    {
     "cell_type": "code",
     "collapsed": false,
     "input": [
      "function r(x)\n",
      "    p(x)/q(x)\n",
      "end"
     ],
     "language": "python",
     "metadata": {},
     "outputs": [
      {
       "metadata": {},
       "output_type": "pyout",
       "prompt_number": 18,
       "text": [
        "r (generic function with 1 method)"
       ]
      }
     ],
     "prompt_number": 18
    },
    {
     "cell_type": "markdown",
     "metadata": {},
     "source": [
      "Que evaluado en $x_0=0$ queda como:"
     ]
    },
    {
     "cell_type": "code",
     "collapsed": false,
     "input": [
      "r(0)"
     ],
     "language": "python",
     "metadata": {},
     "outputs": [
      {
       "metadata": {},
       "output_type": "pyout",
       "prompt_number": 23,
       "text": [
        "FD(-1.0,5.0)"
       ]
      }
     ],
     "prompt_number": 23
    },
    {
     "cell_type": "markdown",
     "metadata": {},
     "source": [
      "La primera entrada corresponde al cociente de polinomios $r(x)$ evaluado en $x_0=0$, \n",
      "\n",
      "$$r(x)\\bigg|_{x_0=0}= \\frac{x^3+3x^2+2x-1}{ x^2+3x+1}=-1 ,$$\n",
      "\n",
      "y la segunda entrada corresponde a la derivada del cociente.\n",
      "\n",
      "$$\\frac{dr(x)}{dx}\\bigg|_{x_0=0}=\\frac{x^4+6x^3+ 10x^2+8x+5}{( x^2+3x+1)^2}=5$$.\n",
      "\n",
      "De modo que la interpretaci\u00f3n se mantiene en el caso del cociente de polinomios."
     ]
    },
    {
     "cell_type": "markdown",
     "metadata": {},
     "source": [
      "---------------------------\n",
      "iii. Pensando en la interpretaci\u00f3n que le diste a $d_x$, c\u00f3mo definir\u00edas la acci\u00f3n sobre ${\\overline x}$ de las siguientes funciones:\n",
      "- $\\exp(\\,{\\overline x}\\,)$\n",
      "- $\\log(\\,{\\overline x}\\,)$\n",
      "- $\\sin(\\,{\\overline x}\\,)$\n",
      "- $\\cos(\\,{\\overline x}\\,)$\n",
      "- $\\tan(\\,{\\overline x}\\,)$"
     ]
    },
    {
     "cell_type": "markdown",
     "metadata": {},
     "source": [
      "Para que $dx$ siga siendo la derivada habr;a que definir dichas funciones en sus respectivas series de potencia.\n",
      "\n",
      "- Para $\\exp (\\bar{x})$:\n",
      "\n",
      "$$\\exp (\\bar{x}) = \\sum _{n=0}^\\infty \\frac{\\bar{x}^n}{n!}$$"
     ]
    },
    {
     "cell_type": "code",
     "collapsed": false,
     "input": [
      "function expFD(x)\n",
      "    m=20\n",
      "    xvar=FD(x,1.0)\n",
      "    sum([(xvar^(m-n))/(factorial(m-n)) for n=0:m])\n",
      "end "
     ],
     "language": "python",
     "metadata": {},
     "outputs": [
      {
       "metadata": {},
       "output_type": "pyout",
       "prompt_number": 26,
       "text": [
        "expFD (generic function with 1 method)"
       ]
      }
     ],
     "prompt_number": 26
    },
    {
     "cell_type": "code",
     "collapsed": false,
     "input": [
      "expFD(1)"
     ],
     "language": "python",
     "metadata": {},
     "outputs": [
      {
       "metadata": {},
       "output_type": "pyout",
       "prompt_number": 27,
       "text": [
        "FD(2.7182818284590455,2.7182818284590455)"
       ]
      }
     ],
     "prompt_number": 27
    },
    {
     "cell_type": "markdown",
     "metadata": {},
     "source": [
      "- Para $\\log(\\bar{x})$: \n",
      "\n",
      "$$\\log(\\bar{x}) = 2 \\sum ^\\infty _{n=0} \\frac{1}{2n+1}\\bigg(\\frac{x-1}{x+1}\\bigg) ^{2n+1}$$\n",
      "\n",
      "En este caso su desarrollo es un cociente de polinomios y como ya se demostr\u00f3 en esos casos tambien se eval\u00faa la derivada."
     ]
    },
    {
     "cell_type": "code",
     "collapsed": false,
     "input": [
      "function logFD(x)\n",
      "    m=1000\n",
      "    xvar=FD(x,1.0)\n",
      "    sum([(2/(2(m-n)+1))*((xvar-1)/(xvar+1))^(2(m-n)+1) for n=0:m])\n",
      "     \n",
      "end"
     ],
     "language": "python",
     "metadata": {},
     "outputs": [
      {
       "metadata": {},
       "output_type": "pyout",
       "prompt_number": 320,
       "text": [
        "logFD (generic function with 2 methods)"
       ]
      }
     ],
     "prompt_number": 320
    },
    {
     "cell_type": "code",
     "collapsed": false,
     "input": [
      "logFD(2)"
     ],
     "language": "python",
     "metadata": {},
     "outputs": [
      {
       "metadata": {},
       "output_type": "pyout",
       "prompt_number": 321,
       "text": [
        "FD(0.6931471805599453,0.49999999999999994)"
       ]
      }
     ],
     "prompt_number": 321
    },
    {
     "cell_type": "markdown",
     "metadata": {},
     "source": [
      "- Para $\\sin(\\bar{x})$:\n",
      "\n",
      "$$\\sin(\\bar{x})=\\sum^\\infty_{n=0} \\frac{(-1)^n }{2n+1!}x^{2n+1}$$"
     ]
    },
    {
     "cell_type": "code",
     "collapsed": false,
     "input": [
      "function sinFD(x)\n",
      "    xvar=FD(x,1.0)\n",
      "    sum([ ((-1)^(n) * xvar^(2n+1))/(factorial(2n+1)) for n=0:9]  )\n",
      "end"
     ],
     "language": "python",
     "metadata": {},
     "outputs": [
      {
       "metadata": {},
       "output_type": "pyout",
       "prompt_number": 30,
       "text": [
        "sinFD (generic function with 1 method)"
       ]
      }
     ],
     "prompt_number": 30
    },
    {
     "cell_type": "code",
     "collapsed": false,
     "input": [
      "sinFD(.25*pi)"
     ],
     "language": "python",
     "metadata": {},
     "outputs": [
      {
       "metadata": {},
       "output_type": "pyout",
       "prompt_number": 31,
       "text": [
        "FD(0.7071067811865475,0.7071067811865475)"
       ]
      }
     ],
     "prompt_number": 31
    },
    {
     "cell_type": "markdown",
     "metadata": {},
     "source": [
      "- Para $\\cos(\\bar{x})$:\n",
      "\n",
      "$$\\cos(\\bar{x})=\\sum^\\infty_{n=0} \\frac{(-1)^n }{2n!}x^{2n}$$"
     ]
    },
    {
     "cell_type": "code",
     "collapsed": false,
     "input": [
      "function cosFD(x)\n",
      "    xvar=FD(x,1.0)\n",
      "    sum([ ((-1)^(n) * xvar^(2n))/(factorial(2n)) for n=0:10]  )\n",
      "end"
     ],
     "language": "python",
     "metadata": {},
     "outputs": [
      {
       "metadata": {},
       "output_type": "pyout",
       "prompt_number": 32,
       "text": [
        "cosFD (generic function with 1 method)"
       ]
      }
     ],
     "prompt_number": 32
    },
    {
     "cell_type": "code",
     "collapsed": false,
     "input": [
      "cosFD(.25*pi)"
     ],
     "language": "python",
     "metadata": {},
     "outputs": [
      {
       "metadata": {},
       "output_type": "pyout",
       "prompt_number": 340,
       "text": [
        "FD(0.7071067811865475,-0.7071067811865475)"
       ]
      }
     ],
     "prompt_number": 340
    },
    {
     "cell_type": "markdown",
     "metadata": {},
     "source": [
      "- Para $\\tan(\\bar{x})$:\n",
      "\n",
      "Lo \u00fanico que se hizo fue definir la funci\u00f3n $\\tan(\\bar{x})$ como el cociente de las funciones $\\sin(\\bar{x})$ y $\\cos(\\bar{x})$ previamente definidas."
     ]
    },
    {
     "cell_type": "code",
     "collapsed": false,
     "input": [
      "function tanFD(x)\n",
      "    sinFD(x)/cosFD(x)\n",
      "end"
     ],
     "language": "python",
     "metadata": {},
     "outputs": [
      {
       "metadata": {},
       "output_type": "pyout",
       "prompt_number": 54,
       "text": [
        "tanFD (generic function with 2 methods)"
       ]
      }
     ],
     "prompt_number": 54
    },
    {
     "cell_type": "code",
     "collapsed": false,
     "input": [
      "tanFD(.25pi)"
     ],
     "language": "python",
     "metadata": {},
     "outputs": [
      {
       "metadata": {},
       "output_type": "pyout",
       "prompt_number": 342,
       "text": [
        "FD(1.0,2.0)"
       ]
      }
     ],
     "prompt_number": 342
    },
    {
     "cell_type": "markdown",
     "metadata": {},
     "source": [
      "Como no supe si lo que hab\u00eda que hacer era que las funciones tuvieran un argumento que fuera real y que arrojara un valor `FD` o argumento `FD` y diera resultado `FD`, entonces a continuaci\u00f3n reescribir\u00e9 las funciones pero que acepten argumento `FD` y metan un nuevo m\u00e9todo a su correspondiente funci\u00f3n."
     ]
    },
    {
     "cell_type": "code",
     "collapsed": false,
     "input": [
      "function expFD(x::FD)\n",
      "    m=20\n",
      "    sum([(x^(m-n))/(factorial(m-n)) for n=0:m])\n",
      "end "
     ],
     "language": "python",
     "metadata": {},
     "outputs": [
      {
       "metadata": {},
       "output_type": "pyout",
       "prompt_number": 52,
       "text": [
        "expFD (generic function with 2 methods)"
       ]
      }
     ],
     "prompt_number": 52
    },
    {
     "cell_type": "code",
     "collapsed": false,
     "input": [
      "function logFD(x::FD)\n",
      "    m=1000\n",
      "    sum([(2/(2(m-n)+1))*((x-1)/(x+1))^(2(m-n)+1) for n=0:m])\n",
      "     \n",
      "end"
     ],
     "language": "python",
     "metadata": {},
     "outputs": [
      {
       "metadata": {},
       "output_type": "pyout",
       "prompt_number": 51,
       "text": [
        "logFD (generic function with 1 method)"
       ]
      }
     ],
     "prompt_number": 51
    },
    {
     "cell_type": "code",
     "collapsed": false,
     "input": [
      "function sinFD(x::FD)\n",
      "    sum([ ((-1)^(n) * x^(2n+1))/(factorial(2n+1)) for n=0:9]  )\n",
      "end"
     ],
     "language": "python",
     "metadata": {},
     "outputs": [
      {
       "metadata": {},
       "output_type": "pyout",
       "prompt_number": 45,
       "text": [
        "sinFD (generic function with 2 methods)"
       ]
      }
     ],
     "prompt_number": 45
    },
    {
     "cell_type": "code",
     "collapsed": false,
     "input": [
      "function cosFD(x::FD)\n",
      "    sum([ ((-1)^(n) * x^(2n))/(factorial(2n)) for n=0:10]  )\n",
      "end"
     ],
     "language": "python",
     "metadata": {},
     "outputs": [
      {
       "metadata": {},
       "output_type": "pyout",
       "prompt_number": 47,
       "text": [
        "cosFD (generic function with 2 methods)"
       ]
      }
     ],
     "prompt_number": 47
    },
    {
     "cell_type": "code",
     "collapsed": false,
     "input": [
      "function tanFD(x::FD)\n",
      "    sinFD(x)/cosFD(x)\n",
      "end"
     ],
     "language": "python",
     "metadata": {},
     "outputs": [
      {
       "metadata": {},
       "output_type": "pyout",
       "prompt_number": 49,
       "text": [
        "tanFD (generic function with 1 method)"
       ]
      }
     ],
     "prompt_number": 49
    },
    {
     "cell_type": "markdown",
     "metadata": {},
     "source": [
      "----------------------------\n",
      "iv. \u00bfC\u00f3mo podemos definir las cosas en Julia de tal manera que ${\\overline v} + c$, y las dem\u00e1s posibles operaciones\n",
      "entre una variable comp\u00f3sita y un flotante $c$, tengan sentido?\n"
     ]
    },
    {
     "cell_type": "markdown",
     "metadata": {},
     "source": [
      "Esto ya se implemento desde el inciso (i) de este ejericicio, en donde lo que se hizo fue definir la suma para un n\u00famero de tipo `FD` y otro de tipo `Real`. Se escribi\u00f3 lo siguiente:"
     ]
    },
    {
     "cell_type": "code",
     "collapsed": false,
     "input": [
      "function +(x::Real,y::FD) \n",
      "    FD(x+y.f,y.d)\n",
      "end\n",
      "\n",
      "function +(x::FD,y::Real)\n",
      "    FD(x.f+y,x.d)\n",
      "end"
     ],
     "language": "python",
     "metadata": {},
     "outputs": [
      {
       "metadata": {},
       "output_type": "pyout",
       "prompt_number": 34,
       "text": [
        "+ (generic function with 120 methods)"
       ]
      }
     ],
     "prompt_number": 34
    },
    {
     "cell_type": "markdown",
     "metadata": {},
     "source": [
      "N\u00f3tese que es necesario hacer dos casos para que la operaci\u00f3n descrita sea conmutativa.\n",
      "\n",
      "Como ya se mencion\u00f3 tambien se realiz\u00f3 \u00e9ste empate de tipos para la resta, multiplicaci\u00f3n y divisi\u00f3n."
     ]
    },
    {
     "cell_type": "markdown",
     "metadata": {},
     "source": [
      "-----------------\n",
      "[7] \n",
      "\n",
      "En el resto del curso, trataremos con *aritm\u00e9tica de intervalos*. En este nuevo tipo de aritm\u00e9tica, ocupamos intervalos $[a,b]$ de la recta real, que es el conjunto \n",
      "\n",
      "$$[a, b] := \\{x : a \\le x \\le b \\}$$\n",
      "\n",
      "(i) Define un tipo composito para representar un intervalo de dos n\u00fameros reales.\n",
      "\n"
     ]
    },
    {
     "cell_type": "code",
     "collapsed": false,
     "input": [
      "type Intervalo\n",
      "    a::Float64\n",
      "    b::Float64\n",
      "end"
     ],
     "language": "python",
     "metadata": {},
     "outputs": [],
     "prompt_number": 66
    },
    {
     "cell_type": "markdown",
     "metadata": {},
     "source": [
      "---------------------\n",
      "(ii) \u00bfC\u00f3mo podr\u00edamos tener operaciones sensatas sobre los intervalos? La idea b\u00e1sica es que el resultado de la operaci\u00f3n sobre dos intervalos contenga los valores posibles resultantes de operar con los miembros de los dos intervalos respectivos.\n",
      "\n",
      "- Para la suma:\n",
      "$$[a_1,b_1] + [a_2,b_2]=[a_1+a_2,b_1+b_2]$$\n",
      "\n",
      "- Para la resta:\n",
      "\n",
      "$$[a_1,b_1] - [a_2,b_2]=[a_1-b_2,b_1+a_2]$$\n",
      "\n",
      "- Para la multiplicaci\u00f3n:\n",
      "\n",
      "$$[a_1,b_1]\\times [a_2,b_2] = [\\min\\{a_1a_2,a_1b_2,b_1a_2,b_1b_2\\},\\max\\{a_1a_2,a_1b_2,b_1a_2,b_1b_2\\}]$$\n",
      "\n",
      "- Para la divisi\u00f3n:\n",
      "\n",
      "$$\\frac{[a_1,b_2]}{[a_2,b_2]}=\\bigg[ \\min \\bigg\\{ \\frac{a_1}{a_2}, \\frac{a_1}{b_2}, \\frac{b_1}{a_2}, \\frac{b_1}{b_2} \\bigg\\}, \\max \\bigg\\{ \\frac{a_1}{a_2}, \\frac{a_1}{b_2}, \\frac{b_1}{a_2}, \\frac{b_1}{b_2} \\bigg\\} \\bigg],$$\n",
      "\n",
      "cuando $0 \\notin [a_2,b_2]$"
     ]
    },
    {
     "cell_type": "markdown",
     "metadata": {},
     "source": [
      "-------------------\n",
      "(iii) Implementa estas operaciones, sin tomar en cuenta cuestiones de redondeo."
     ]
    },
    {
     "cell_type": "markdown",
     "metadata": {},
     "source": [
      "Lo que se har\u00e1 ser\u00e1 a\u00f1adir m\u00e9todos a estas operaciones para los argumentos sean del tipo `Intervalo`."
     ]
    },
    {
     "cell_type": "code",
     "collapsed": false,
     "input": [
      "function +(x::Intervalo, y::Intervalo)\n",
      "    Intervalo(x.a+y.a, x.b+y.b)\n",
      "end\n",
      "\n",
      "function -(x::Intervalo, y::Intervalo)\n",
      "    Intervalo(x.a-y.b, x.b-y.a)\n",
      "end\n",
      "\n",
      "function *(x::Intervalo, y::Intervalo)\n",
      "    Intervalo(min(x.a*y.a, x.a*y.b, x.b*y.a, x.b*y.b),max(x.a*y.a, x.a*y.b, x.b*y.a, x.b*y.b))\n",
      "end\n",
      "\n",
      "function /(x::Intervalo, y::Intervalo)\n",
      "    Intervalo(min(x.a/y.a, x.a/y.b, x.b/y.a, x.b/y.b),max(x.a/y.a, x.a/y.b, x.b/y.a, x.b/y.b))\n",
      "end"
     ],
     "language": "python",
     "metadata": {},
     "outputs": [
      {
       "metadata": {},
       "output_type": "pyout",
       "prompt_number": 94,
       "text": [
        "/ (generic function with 48 methods)"
       ]
      }
     ],
     "prompt_number": 94
    },
    {
     "cell_type": "markdown",
     "metadata": {},
     "source": [
      "A continuaci\u00f3n se muestra que para los intervalos $x=[1,2]$ y $y=[5,6]$, la aritm\u00e9tica de intervalos definida en el cuadro anterior si funciona:"
     ]
    },
    {
     "cell_type": "code",
     "collapsed": false,
     "input": [
      "x=Intervalo(1,2)\n",
      "y=Intervalo(5,6)"
     ],
     "language": "python",
     "metadata": {},
     "outputs": [
      {
       "metadata": {},
       "output_type": "pyout",
       "prompt_number": 107,
       "text": [
        "Intervalo(5.0,6.0)"
       ]
      }
     ],
     "prompt_number": 107
    },
    {
     "cell_type": "code",
     "collapsed": false,
     "input": [
      "x+y"
     ],
     "language": "python",
     "metadata": {},
     "outputs": [
      {
       "metadata": {},
       "output_type": "pyout",
       "prompt_number": 108,
       "text": [
        "Intervalo(6.0,8.0)"
       ]
      }
     ],
     "prompt_number": 108
    },
    {
     "cell_type": "code",
     "collapsed": false,
     "input": [
      "x-y"
     ],
     "language": "python",
     "metadata": {},
     "outputs": [
      {
       "metadata": {},
       "output_type": "pyout",
       "prompt_number": 109,
       "text": [
        "Intervalo(-5.0,-3.0)"
       ]
      }
     ],
     "prompt_number": 109
    },
    {
     "cell_type": "code",
     "collapsed": false,
     "input": [
      "y*x"
     ],
     "language": "python",
     "metadata": {},
     "outputs": [
      {
       "metadata": {},
       "output_type": "pyout",
       "prompt_number": 110,
       "text": [
        "Intervalo(5.0,12.0)"
       ]
      }
     ],
     "prompt_number": 110
    },
    {
     "cell_type": "code",
     "collapsed": false,
     "input": [
      "x/y"
     ],
     "language": "python",
     "metadata": {},
     "outputs": [
      {
       "metadata": {},
       "output_type": "pyout",
       "prompt_number": 99,
       "text": [
        "Intervalo(0.16666666666666666,0.4)"
       ]
      }
     ],
     "prompt_number": 99
    },
    {
     "cell_type": "markdown",
     "metadata": {},
     "source": [
      "-----------------------\n",
      "(iv) \u00bfC\u00f3mo nos puede ayudar el redondeo? Implem\u00e9ntalo."
     ]
    },
    {
     "cell_type": "markdown",
     "metadata": {},
     "source": [
      "Supongase una operaci\u00f3n arbitraria entre intervalos $*$, tal que:\n",
      "\n",
      "$$[a_1,b_1]*[a_2,b_2]=[a_r,b_r].$$\n",
      "\n",
      "El redondeo puede ayudar redondeando las cotas de intervalo resultado. Redondeando para abajo el valor de $a_r$ y redondeando para arriba el valor de $b_r$.\n",
      "\n",
      "Asi que usando redondeo las funciones de aritm\u00e9tica de intervalos quedan como:"
     ]
    },
    {
     "cell_type": "code",
     "collapsed": false,
     "input": [
      "old=get_rounding(Float64) # Para guardar el redondeo default de Julia."
     ],
     "language": "python",
     "metadata": {},
     "outputs": [
      {
       "metadata": {},
       "output_type": "pyout",
       "prompt_number": 120,
       "text": [
        "RoundingMode(0)"
       ]
      }
     ],
     "prompt_number": 120
    },
    {
     "cell_type": "code",
     "collapsed": false,
     "input": [
      "function +(x::Intervalo, y::Intervalo)\n",
      "    \n",
      "    set_rounding(Float64, RoundDown)\n",
      "    ra=x.a+y.a\n",
      "    \n",
      "    set_rounding(Float64, RoundUp)\n",
      "    rb=x.b+y.b\n",
      "    \n",
      "    r=Intervalo(ra, rb)\n",
      "    set_rounding(Float64, old)\n",
      "    r\n",
      "    \n",
      "end\n",
      "\n",
      "function -(x::Intervalo, y::Intervalo)\n",
      "    \n",
      "    set_rounding(Float64, RoundDown)\n",
      "    ra=x.a-y.b\n",
      "    \n",
      "    set_rounding(Float64, RoundUp)\n",
      "    rb=x.b-y.a\n",
      "    \n",
      "    r=Intervalo(ra, rb)\n",
      "    set_rounding(Float64, old)\n",
      "    r\n",
      "    \n",
      "end\n",
      "\n",
      "function *(x::Intervalo, y::Intervalo)\n",
      "    \n",
      "    set_rounding(Float64, RoundDown)\n",
      "    ra=min(x.a*y.a, x.a*y.b, x.b*y.a, x.b*y.b)\n",
      "    \n",
      "    set_rounding(Float64, RoundUp)\n",
      "    rb=max(x.a*y.a, x.a*y.b, x.b*y.a, x.b*y.b)\n",
      "    \n",
      "    r=Intervalo(ra, rb)\n",
      "    set_rounding(Float64, old)\n",
      "    r\n",
      "    \n",
      "end\n",
      "\n",
      "function /(x::Intervalo, y::Intervalo)\n",
      "    \n",
      "    set_rounding(Float64, RoundDown)\n",
      "    ra=min(x.a/y.a, x.a/y.b, x.b/y.a, x.b/y.b)\n",
      "    \n",
      "    set_rounding(Float64, RoundUp)\n",
      "    rb=max(x.a/y.a, x.a/y.b, x.b/y.a, x.b/y.b)\n",
      "    \n",
      "    r=Intervalo(ra, rb)\n",
      "    set_rounding(Float64, old)\n",
      "    r\n",
      "    \n",
      "end"
     ],
     "language": "python",
     "metadata": {},
     "outputs": [
      {
       "metadata": {},
       "output_type": "pyout",
       "prompt_number": 121,
       "text": [
        "/ (generic function with 48 methods)"
       ]
      }
     ],
     "prompt_number": 121
    }
   ],
   "metadata": {}
  }
 ]
}