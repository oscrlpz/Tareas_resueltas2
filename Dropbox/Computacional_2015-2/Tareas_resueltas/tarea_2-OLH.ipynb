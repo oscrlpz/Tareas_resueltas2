{
 "metadata": {
  "language": "Julia",
  "name": "",
  "signature": "sha256:dee29ba1f8fa05465178471e09cc27674eff2bb9dbdd845cb3f90ce32a9945b0"
 },
 "nbformat": 3,
 "nbformat_minor": 0,
 "worksheets": [
  {
   "cells": [
    {
     "cell_type": "heading",
     "level": 1,
     "metadata": {},
     "source": [
      "        Tarea 2"
     ]
    },
    {
     "cell_type": "heading",
     "level": 3,
     "metadata": {},
     "source": [
      "[1] Cadena binaria a entero decimal"
     ]
    },
    {
     "cell_type": "markdown",
     "metadata": {},
     "source": [
      "Primero se realiza la funci\u00f3n que convierte una cadena de 0's y 1's en su correspondiente representaci\u00f3n como n\u00famero entero decimal."
     ]
    },
    {
     "cell_type": "markdown",
     "metadata": {},
     "source": [
      "El algoritmo ultilizado consiste en tomar la cadena binaria y contar cuantos caracteres tiene. Despu\u00e9s se toma el valor (0 o 1) del primer caracter y se multipica por 2^(n-1), donde n es el n\u00famero de caracteres de la cadena. El segundo caracter se multiplica por 2^(n-2), el tercero por 2^(n-3) y asi sucesivamente hasta el \u00faltimo caracter, que se multiplicara por 2^(n-n) = 2^0. El entero decimal buscado es el resultado de sumar cada uno de los 0's y 1's multiplicados por potencias de 2 que se acaban de mencionar."
     ]
    },
    {
     "cell_type": "markdown",
     "metadata": {},
     "source": [
      "La funci\u00f3n que realiza el procedimiento descrito en el p\u00e1rrafo anterior se nombrar\u00e1 b2d (por binary to decimal) y se muestra a continuaci\u00f3n:"
     ]
    },
    {
     "cell_type": "code",
     "collapsed": false,
     "input": [
      "function b2d(x)\n",
      "    sum([(int(x[n])-48)*2^(length(x)-n) for n=1:length(x)])\n",
      "end"
     ],
     "language": "python",
     "metadata": {},
     "outputs": [
      {
       "metadata": {},
       "output_type": "pyout",
       "prompt_number": 1,
       "text": [
        "b2d (generic function with 1 method)"
       ]
      }
     ],
     "prompt_number": 1
    },
    {
     "cell_type": "markdown",
     "metadata": {},
     "source": [
      "La funci\u00f3n b2d(x) toma la cadena binaria y escanea cada uno de sus caracteres, desde el primero hasta el \u00faltimo. El \u00faltimo caracter se especifica por medio de la funci\u00f3n length(), que devuelve el n\u00famero de caracteres que tiene la cadena."
     ]
    },
    {
     "cell_type": "markdown",
     "metadata": {},
     "source": [
      "Cada caracter de la cadena binaria se convierte a 0 o 1 en entero Int, se multiplica por su potencia de 2^n que le corresponda por su posicion en la cadena y se almacena en un arreglo. Con la funci\u00f3n sum() se suman los elementos del arreglo y as\u00ed se obtiene el n\u00famero entero decimal buscado."
     ]
    },
    {
     "cell_type": "code",
     "collapsed": false,
     "input": [
      "x=(\"11001\")"
     ],
     "language": "python",
     "metadata": {},
     "outputs": [
      {
       "metadata": {},
       "output_type": "pyout",
       "prompt_number": 2,
       "text": [
        "\"11001\""
       ]
      }
     ],
     "prompt_number": 2
    },
    {
     "cell_type": "code",
     "collapsed": false,
     "input": [
      "b2d(x)"
     ],
     "language": "python",
     "metadata": {},
     "outputs": [
      {
       "metadata": {},
       "output_type": "pyout",
       "prompt_number": 3,
       "text": [
        "25"
       ]
      }
     ],
     "prompt_number": 3
    },
    {
     "cell_type": "markdown",
     "metadata": {},
     "source": [
      "Para que b2d(x) funcione para cadenas con valor negativo (por ejemplo la cadena \"-101\") se mete un if que identifique si el primer caracter de la cadena binaria x corresponde al caracter '-'. S\u00ed su primer simbolo cumple que x[1]=='-' entonces se toma  lsegmento de cadena que va desde el caracter posterior al signo '-' hasta el final de la cadena. Este segmento se convierte a decimal por el mismo porcedimiento ya mencionado y se le a\u00f1ade el signo negativo. En caso de que x no cuente con el simbolo '-' en su primer caracter entonces se prosigue como en la primera funci\u00f3n que se escribi\u00f3."
     ]
    },
    {
     "cell_type": "code",
     "collapsed": false,
     "input": [
      "function b2d(x)\n",
      "    if x[1]=='-'\n",
      "        inicio=2\n",
      "        signo=-1\n",
      "    else\n",
      "        inicio=1\n",
      "        signo=1\n",
      "    end\n",
      "    signo*sum([(int(x[n])-48)*2^(length(x)-n) for n=inicio:length(x)])\n",
      "end"
     ],
     "language": "python",
     "metadata": {},
     "outputs": [
      {
       "metadata": {},
       "output_type": "pyout",
       "prompt_number": 4,
       "text": [
        "b2d (generic function with 1 method)"
       ]
      }
     ],
     "prompt_number": 4
    },
    {
     "cell_type": "markdown",
     "metadata": {},
     "source": [
      "Para ver que b2d(x) ya funciona para cadenas con s\u00edmbolo negativo, se calcula el resultado de la funci\u00f3n b2d(x) para un valor donde x es negativo."
     ]
    },
    {
     "cell_type": "code",
     "collapsed": false,
     "input": [
      "x=\"-100\""
     ],
     "language": "python",
     "metadata": {},
     "outputs": [
      {
       "metadata": {},
       "output_type": "pyout",
       "prompt_number": 5,
       "text": [
        "\"-100\""
       ]
      }
     ],
     "prompt_number": 5
    },
    {
     "cell_type": "code",
     "collapsed": false,
     "input": [
      "b2d(x)"
     ],
     "language": "python",
     "metadata": {},
     "outputs": [
      {
       "metadata": {},
       "output_type": "pyout",
       "prompt_number": 6,
       "text": [
        "-4"
       ]
      }
     ],
     "prompt_number": 6
    },
    {
     "cell_type": "heading",
     "level": 3,
     "metadata": {},
     "source": [
      "[2] Entero decimal a cadena binaria"
     ]
    },
    {
     "cell_type": "markdown",
     "metadata": {},
     "source": [
      "La siguiente funci\u00f3n es la inversa de b2d, esto es, aquella que toma un n\u00famero entero decimal y lo convierte a una cadena de caracteres binarios. Esta funcion se nombrar\u00e1 d2b, por decimal to binary."
     ]
    },
    {
     "cell_type": "markdown",
     "metadata": {},
     "source": [
      "El algoritmo utilizado consiste en tomar el n\u00famero decimal x y divirlo entre dos, el resultado se divide entre dos de nuevo y as\u00ed sucesivamente hasta que el dividendo sea menor que 2. Los residuos resultado de cada una de estas divisiones se ordenan  para formar la cadena binaria. El primer residuo obtenido es el \u00faltimo caracter de la cadena binaria, el segundo residuo el pen\u00faltimo caracter y as\u00ed hasta que el \u00faltimo residuo obtenido sea el primer caracter de la cadena."
     ]
    },
    {
     "cell_type": "markdown",
     "metadata": {},
     "source": [
      "La funci\u00f3n b2d se muestra a continuaci\u00f3n:"
     ]
    },
    {
     "cell_type": "code",
     "collapsed": false,
     "input": [
      "function d2b(x)\n",
      "bit=\"\"\n",
      "    if x==0\n",
      "        bit=\"0\"    \n",
      "    else\n",
      "        while x!=0\n",
      "            r = x%2\n",
      "            x=int(x/2-0.01) #Divide a x entre dos y le quita su parte decimal, redondeandolo hacia abajo.\n",
      "            #x = div(x,2) # Despu\u00e9s vi que la funci\u00f3n div() hacia lo mismo que int(x/2-0.01) pero preferi quedarme con la primera.\n",
      "            bit=\"$r\"*bit\n",
      "        end\n",
      "    end\n",
      "bit\n",
      "end"
     ],
     "language": "python",
     "metadata": {},
     "outputs": [
      {
       "metadata": {},
       "output_type": "pyout",
       "prompt_number": 7,
       "text": [
        "d2b (generic function with 1 method)"
       ]
      }
     ],
     "prompt_number": 7
    },
    {
     "cell_type": "markdown",
     "metadata": {},
     "source": [
      "Es sencillo ver que realiza la funci\u00f3n d2b(x). Se empieza con un if que identifica si el n\u00famero intorducido es un 0, de ser asi devuelve el 0 pero en tipo cadena. En caso de que el n\u00famero x sea distinto de 0 se entra en un loop que extrae el residuo de x/2 nombr\u00e1ndolo r. Despu\u00e9s divide a x entre 2 y lo redondea hacia abajo. Esto se logra volviendo a (x/2-0.01) un entero con la funci\u00f3n int(). Se resta el 0.01 para cuando la parte decimal de la division de x/2 sea igual a 0 se redondee hacia abajo."
     ]
    },
    {
     "cell_type": "markdown",
     "metadata": {},
     "source": [
      "El r resultante de cada loop se va almacenando en la cadena bit. El loop termina cuando x==0, esto es, cuando el resultado de dividir x entre 2 es menor a 1 (especificamente 0.5) y por lo tanto x se redondea hacia abajo a 0."
     ]
    },
    {
     "cell_type": "markdown",
     "metadata": {},
     "source": [
      "Pru\u00e9bese la funcion d2b(x) para difenetes valores de x."
     ]
    },
    {
     "cell_type": "code",
     "collapsed": false,
     "input": [
      "x=4"
     ],
     "language": "python",
     "metadata": {},
     "outputs": [
      {
       "metadata": {},
       "output_type": "pyout",
       "prompt_number": 8,
       "text": [
        "4"
       ]
      }
     ],
     "prompt_number": 8
    },
    {
     "cell_type": "code",
     "collapsed": false,
     "input": [
      "d2b(x)"
     ],
     "language": "python",
     "metadata": {},
     "outputs": [
      {
       "metadata": {},
       "output_type": "pyout",
       "prompt_number": 9,
       "text": [
        "\"100\""
       ]
      }
     ],
     "prompt_number": 9
    },
    {
     "cell_type": "markdown",
     "metadata": {},
     "source": [
      "Para que la funci\u00f3n d2b(x) pueda funcionar con enteros negativos se agrega un elseif adicional. De esta manera se separa el caso de cuando x < 0 y de cuando x > 0. Cuando x > 0 la cadena binaria se calcula de la manera que ya se discuti\u00f3. Si x < 0 se toma el valor absoluto de x (volvi\u00e9ndolo positivo) y la cadena binaria se calcula igual que cuando x es positivo, salvo que al principio de la cadena resultante se a\u00f1ade el caracter \"-\". "
     ]
    },
    {
     "cell_type": "markdown",
     "metadata": {},
     "source": [
      "A continuaci\u00f3n se muestra la funci\u00f3n d2b(x) que acepta enteros negativos y positivos."
     ]
    },
    {
     "cell_type": "code",
     "collapsed": false,
     "input": [
      "function d2b(x)\n",
      "x=int(x)\n",
      "bit=\"\"\n",
      "    if x==0\n",
      "        signo=\"0\"    \n",
      "    elseif x<0\n",
      "        x=-x\n",
      "        signo=\"-\"\n",
      "    else\n",
      "        signo=\"\"\n",
      "    end\n",
      "            while x!=0\n",
      "                r = x%2\n",
      "                x=int(x/2-0.01)\n",
      "                #x = div(x,2)\n",
      "                bit=\"$r\"*bit\n",
      "            end\n",
      "\n",
      "\"$signo\"* bit\n",
      "end"
     ],
     "language": "python",
     "metadata": {},
     "outputs": [
      {
       "metadata": {},
       "output_type": "pyout",
       "prompt_number": 10,
       "text": [
        "d2b (generic function with 1 method)"
       ]
      }
     ],
     "prompt_number": 10
    },
    {
     "cell_type": "markdown",
     "metadata": {},
     "source": [
      "Pru\u00e9bese para valores de x negativos."
     ]
    },
    {
     "cell_type": "code",
     "collapsed": false,
     "input": [
      "x=-25"
     ],
     "language": "python",
     "metadata": {},
     "outputs": [
      {
       "metadata": {},
       "output_type": "pyout",
       "prompt_number": 11,
       "text": [
        "-25"
       ]
      }
     ],
     "prompt_number": 11
    },
    {
     "cell_type": "code",
     "collapsed": false,
     "input": [
      "d2b(x)"
     ],
     "language": "python",
     "metadata": {},
     "outputs": [
      {
       "metadata": {},
       "output_type": "pyout",
       "prompt_number": 12,
       "text": [
        "\"-11001\""
       ]
      }
     ],
     "prompt_number": 12
    },
    {
     "cell_type": "heading",
     "level": 3,
     "metadata": {},
     "source": [
      "[3] Cadena binaria con punto a decimal de punto flotante"
     ]
    },
    {
     "cell_type": "markdown",
     "metadata": {},
     "source": [
      "Para realizar esta conversi\u00f3n lo que se lleva a cabo es generalizar el m\u00e9todo descrito anteriormente, extendiendo a valores negativos la n de las potencias de 2^n en el caso de los caracteres que se encuentran a la derecha del punto decimal. Esto es, el primer caracter a la derecha del punto decimal tendr\u00e1 el valor de n = -1, el segundo n = -2 y asi sucesivamente."
     ]
    },
    {
     "cell_type": "markdown",
     "metadata": {},
     "source": [
      "Antes de construir la funci\u00f3n de conversi\u00f3n se escribira otra funci\u00f3n que ayudar\u00e1 a resolver el problema. A esta funci\u00f3n se le llam\u00f3 posicion(x) y lo que hace es devolver la posici\u00f3n del punto en la cadena. Por ejemplo para la cadena \"10101.001\" el valor que la funci\u00f3n posici\u00f3n devolver\u00eda ser\u00eda 6, ya que el punto s encuentra en el secto caracter de la cadena. A continuaci\u00f3n se muestra esta funcion posicion(x):"
     ]
    },
    {
     "cell_type": "code",
     "collapsed": false,
     "input": [
      "function posicion(x)\n",
      "p = 0\n",
      "    for n=1:length(x)\n",
      "        p+= 1\n",
      "        x[n] == '.' && break\n",
      "        if n==length(x) && x!='.' #Este if esta para el caso en que se introduzca un n\u00famero sin punto.\n",
      "                p=length(x)+1\n",
      "            end\n",
      "    end\n",
      "p\n",
      "end"
     ],
     "language": "python",
     "metadata": {},
     "outputs": [
      {
       "metadata": {},
       "output_type": "pyout",
       "prompt_number": 13,
       "text": [
        "posicion (generic function with 1 method)"
       ]
      }
     ],
     "prompt_number": 13
    },
    {
     "cell_type": "markdown",
     "metadata": {},
     "source": [
      "La funci\u00f3n posicion(x) escanea cada uno de los caracteres de la cadena y cuando el caracter escaneado sea igual a '.' se termina el ciclo. El n\u00famero de ciclos que se realizaron ser\u00e1 igual a la posici\u00f3n del punto en la cadena, es por esto que \u00e9ste n\u00famero de ciclos se almacena en el contador p. "
     ]
    },
    {
     "cell_type": "markdown",
     "metadata": {},
     "source": [
      "Un caso particular es cuando la cadena no cuenta con ning\u00fan punto decimal. Para este caso se introdujo un if que funciona cuando ya se escaneo toda la cadena y ning\u00fan caracter fue punto, en este caso el valor que se devuelve es la longitud de la cadena m\u00e1s uno. Este valor tiene que ver con la construcci\u00f3n de la funci\u00f3n de conversi\u00f3n de binario a decimal. Esto es para que la funci\u00f3n de conversi\u00f3n trate de la misma manera a un n\u00famero sin parte decimal, que puede representarse con o sin punto, por ejemplo la cadena \"101.0\" es el mismo binario que la cadena \"101\"."
     ]
    },
    {
     "cell_type": "markdown",
     "metadata": {},
     "source": [
      "Pru\u00e9bese para diferentes valores de x."
     ]
    },
    {
     "cell_type": "code",
     "collapsed": false,
     "input": [
      "x=\"101.001\""
     ],
     "language": "python",
     "metadata": {},
     "outputs": [
      {
       "metadata": {},
       "output_type": "pyout",
       "prompt_number": 14,
       "text": [
        "\"101.001\""
       ]
      }
     ],
     "prompt_number": 14
    },
    {
     "cell_type": "code",
     "collapsed": false,
     "input": [
      "posicion(x)"
     ],
     "language": "python",
     "metadata": {},
     "outputs": [
      {
       "metadata": {},
       "output_type": "pyout",
       "prompt_number": 15,
       "text": [
        "4"
       ]
      }
     ],
     "prompt_number": 15
    },
    {
     "cell_type": "markdown",
     "metadata": {},
     "source": [
      "La funci\u00f3n de conversi\u00f3n de cadena decimal con punto a decimal flotante se nombr\u00f3 b2df(x), la f denota que es para punto flotante. A continuaci\u00f3n se muestra dicha funci\u00f3n:"
     ]
    },
    {
     "cell_type": "code",
     "collapsed": false,
     "input": [
      "function b2df(x)\n",
      "    if x[1]=='-' #Esto es para considerar el caso negativo\n",
      "        inicio=2  #Para iniciar en el segundo caracter de la cadena\n",
      "        signo=-1 #Para \n",
      "    else\n",
      "        inicio=1\n",
      "        signo=1\n",
      "    end\n",
      "    x=x\n",
      "    i=posicion(x)-1\n",
      "    j= posicion(x)+1\n",
      "    izq = signo*sum([(int(x[n])-48)*2 ^(i-n) for n=inicio:i]) #Esta parte es para la cadena a la izquierda del punto decimal\n",
      "    der = signo*sum([(int(x[n])-48)*2.0^(-(n-j+1)) for n=j:length(x)]) #Esta parte es para la cadena a la derecha del punto decimal.\n",
      "    res=izq+der\n",
      "    res\n",
      "end"
     ],
     "language": "python",
     "metadata": {},
     "outputs": [
      {
       "metadata": {},
       "output_type": "pyout",
       "prompt_number": 16,
       "text": [
        "b2df (generic function with 1 method)"
       ]
      }
     ],
     "prompt_number": 16
    },
    {
     "cell_type": "markdown",
     "metadata": {},
     "source": [
      "La funcion parte la cadena binaria en dos, en la parte que se encuentra antes y depu\u00e9s del punto decimal. Se llma a la funci\u00f3n posicion(x) para ubicar donde se encuentra el punto decimal. Conociendo la posici\u00f3n del punto es posible convertir por separado la parte entera y decimal de la cadena. El algoritmo utilizado es el mismo que se uso para bdf(x), lo \u00fanico que cambia es que a la izquierda del punto se eleva con exponentes positivos y la derecha con exponentes negativos. Al final se suman ambas partes para obtener el decimal resultante."
     ]
    },
    {
     "cell_type": "markdown",
     "metadata": {},
     "source": [
      "Tambi\u00e9n se considera el caso negativo ocupando un if para identificar si el primer caracter de la cadena es un signo negativo. En caso de que asi sea, el for de la parte a la izquierda del cero se incia con el segundo caracter y se multiplica por -1 para vovlver negativo el numero resultante."
     ]
    },
    {
     "cell_type": "markdown",
     "metadata": {},
     "source": [
      "Como se muestra a continuaci\u00f3n la funci\u00f3n b2df(x) funciona bien para cualquier valor positivo:"
     ]
    },
    {
     "cell_type": "code",
     "collapsed": false,
     "input": [
      "x=\"11001.01\""
     ],
     "language": "python",
     "metadata": {},
     "outputs": [
      {
       "metadata": {},
       "output_type": "pyout",
       "prompt_number": 17,
       "text": [
        "\"11001.01\""
       ]
      }
     ],
     "prompt_number": 17
    },
    {
     "cell_type": "code",
     "collapsed": false,
     "input": [
      "b2df(x)"
     ],
     "language": "python",
     "metadata": {},
     "outputs": [
      {
       "metadata": {},
       "output_type": "pyout",
       "prompt_number": 18,
       "text": [
        "25.25"
       ]
      }
     ],
     "prompt_number": 18
    },
    {
     "cell_type": "markdown",
     "metadata": {},
     "source": [
      "E igualmente b2df(x) funciona para n\u00fameros negativos."
     ]
    },
    {
     "cell_type": "code",
     "collapsed": false,
     "input": [
      "x=\"-10.1\""
     ],
     "language": "python",
     "metadata": {},
     "outputs": [
      {
       "metadata": {},
       "output_type": "pyout",
       "prompt_number": 19,
       "text": [
        "\"-10.1\""
       ]
      }
     ],
     "prompt_number": 19
    },
    {
     "cell_type": "code",
     "collapsed": false,
     "input": [
      "b2df(x)"
     ],
     "language": "python",
     "metadata": {},
     "outputs": [
      {
       "metadata": {},
       "output_type": "pyout",
       "prompt_number": 20,
       "text": [
        "-2.5"
       ]
      }
     ],
     "prompt_number": 20
    },
    {
     "cell_type": "heading",
     "level": 3,
     "metadata": {},
     "source": [
      "[4] Decimal punto flotante a cadena binaria con punto"
     ]
    },
    {
     "cell_type": "markdown",
     "metadata": {},
     "source": [
      "La ultima funci\u00f3n que se mostrar\u00e1 es aquella que convierte un n\u00famero flotante a una cadena decimal con punto. Para llevar a cabo la conversi\u00f3n se necesita convertir la parte antes y la parte despues del punto con diferentes algoritmos. La parte que se encuentra a la izquierda del punto decimal, se convierte de la misma manera que se hizo para el entero decimal a cadena binaria. En cambio el m\u00e9todo que se utiliza para la parte a la derecha del punto es completamente diferente."
     ]
    },
    {
     "cell_type": "markdown",
     "metadata": {},
     "source": [
      "Para la parte a la derecha del punto se multiplica cada uno de sus caracteres por dos. Si el resultado obtenido es mayor o igual a 1 se anota como un 1 binario . Si es menor a 1 se anota un 0 binario. Despu\u00e9s de realizar cada multipliaci\u00f3n se colocan los numeros binarios en su orden de obtenci\u00f3n."
     ]
    },
    {
     "cell_type": "markdown",
     "metadata": {},
     "source": [
      "A continuaci\u00f3n se muestra la funci\u00f3n d2bdec(x) que transforma un n\u00famero que este a la derecha del punto decimal a cadena binaria (sin el punto). Esta funci\u00f3n es unicamente auxiliar a la funci\u00f3n de final d2bf(x)."
     ]
    },
    {
     "cell_type": "code",
     "collapsed": false,
     "input": [
      "function d2bdec(x)\n",
      "    bit=\"\"\n",
      "    if x==0\n",
      "        bit=\"0\"\n",
      "    else\n",
      "        if x>0\n",
      "            x=x\n",
      "        else\n",
      "            x=-x\n",
      "        end    \n",
      "            while x!=1\n",
      "                if 2x<1\n",
      "                    r=0\n",
      "                bit=bit*\"$r\"\n",
      "                    x=2x\n",
      "                elseif 2x>1\n",
      "                    r=1\n",
      "                bit=bit*\"$r\"\n",
      "                    x=2x-1\n",
      "                else\n",
      "                    break\n",
      "                end  \n",
      "\n",
      "            end\n",
      "        bit=bit*\"1\"#Este 1 se agrega ya que en el momento en que x vale 0.5, 2x vale 1 y se sale del loop sin guardar el valor de 1.\n",
      "    end\n",
      "    bit\n",
      "end "
     ],
     "language": "python",
     "metadata": {},
     "outputs": [
      {
       "metadata": {},
       "output_type": "pyout",
       "prompt_number": 21,
       "text": [
        "d2bdec (generic function with 1 method)"
       ]
      }
     ],
     "prompt_number": 21
    },
    {
     "cell_type": "markdown",
     "metadata": {},
     "source": [
      "Con un if la funci\u00f3n identifica si x es un cero y simplemete arroja un 1. En caso contrario, con un if, convierte a las x negativas a positivo y deja a las positivas positivas. Tampoco se pone un punto en la cadena resultante. Esto es porque el signo final y el punto se determinan en la funci\u00f3n final d2bf(x)."
     ]
    },
    {
     "cell_type": "markdown",
     "metadata": {},
     "source": [
      "Habiendo ya definido la funci\u00f3n d2bdec(x) se puede proseguir a escribir la funci\u00f3n final d2bf(x), que se muestra a continuaci\u00f3n."
     ]
    },
    {
     "cell_type": "code",
     "collapsed": false,
     "input": [
      "function d2bf(x)\n",
      "    \n",
      "    signo=\"\"\n",
      "    \n",
      "        if sign(x)==-1\n",
      "            signo=\"-\"\n",
      "        end\n",
      "\n",
      "    y=int(abs(x)-0.05) #int lo vuelve entero para hacer que los 1 y 0 no sean float y lleguen bien a d2b\n",
      "    izq=d2b(y)\n",
      "\n",
      "    y=int(x-0.05)\n",
      "    z=(x-y)       \n",
      "    der=d2bdec(z)   \n",
      "    \n",
      "    num=signo*izq*\".\"*der\n",
      "        \n",
      "end"
     ],
     "language": "python",
     "metadata": {},
     "outputs": [
      {
       "metadata": {},
       "output_type": "pyout",
       "prompt_number": 22,
       "text": [
        "d2bf (generic function with 1 method)"
       ]
      }
     ],
     "prompt_number": 22
    },
    {
     "cell_type": "markdown",
     "metadata": {},
     "source": [
      "El primer if lo que hace es a\u00f1adir el signo de menos si x tiene un signo negativo. Despues solo se llama a las funciones d2b y d2bdec para que actuen con sus respectivas porciones del numero flotante. El valor de y que entra es la funci\u00f3n d2b(y) es la cantidad que se encuentra a la izquierda del n\u00famero flotante x, esto es la parte entera. El valor de z que entra a la funci\u00f3n d2bdec(z) es el valor que se encuentra a la derecha del punto en el flotante x, esto es, la parte decimal."
     ]
    },
    {
     "cell_type": "markdown",
     "metadata": {},
     "source": [
      "Aqui se puede probar el valor de la funci\u00f3n d2bf(x) para diferentes valores de x, tanto positivos como negativos."
     ]
    },
    {
     "cell_type": "code",
     "collapsed": false,
     "input": [
      "x=-25.25"
     ],
     "language": "python",
     "metadata": {},
     "outputs": [
      {
       "metadata": {},
       "output_type": "pyout",
       "prompt_number": 25,
       "text": [
        "25.25"
       ]
      }
     ],
     "prompt_number": 25
    },
    {
     "cell_type": "code",
     "collapsed": false,
     "input": [
      "d2bf(x)"
     ],
     "language": "python",
     "metadata": {},
     "outputs": [
      {
       "metadata": {},
       "output_type": "pyout",
       "prompt_number": 26,
       "text": [
        "\"11001.01\""
       ]
      }
     ],
     "prompt_number": 26
    },
    {
     "cell_type": "code",
     "collapsed": false,
     "input": [],
     "language": "python",
     "metadata": {},
     "outputs": []
    }
   ],
   "metadata": {}
  }
 ]
}