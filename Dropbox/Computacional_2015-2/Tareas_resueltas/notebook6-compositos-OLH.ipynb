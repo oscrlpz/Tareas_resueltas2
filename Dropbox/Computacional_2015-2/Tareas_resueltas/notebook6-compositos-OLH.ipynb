{
 "metadata": {
  "language": "Julia",
  "name": "",
  "signature": "sha256:4636627112b2165a8835dc382c53deb5ebd796e9ff8fb516305e45e0a306b50d"
 },
 "nbformat": 3,
 "nbformat_minor": 0,
 "worksheets": [
  {
   "cells": [
    {
     "cell_type": "markdown",
     "metadata": {},
     "source": [
      "**Notebook 6. Tipos Compuestos**\n",
      "\n",
      "Soluciones"
     ]
    },
    {
     "cell_type": "markdown",
     "metadata": {},
     "source": [
      "[1] \n",
      "\n",
      "(i) \u00bfC\u00f3mo representar\u00edas a una part\u00edcula en 1D con posici\u00f3n, velocidad y masa en Julia?\n"
     ]
    },
    {
     "cell_type": "markdown",
     "metadata": {},
     "source": [
      "Tendr\u00eda que ser como un arreglo que permitiera tener los 3 n\u00fameros dentro de un solo objeto. Esto es el primer elemnto del arreglo para la posici\u00f3n, el segundo para la velocidad y el tercero para la masa.\n",
      "\n",
      "---------------"
     ]
    },
    {
     "cell_type": "markdown",
     "metadata": {},
     "source": [
      "(ii) \u00bfC\u00f3mo mover\u00edas la part\u00edcula en un paso $\\delta t$?\n"
     ]
    },
    {
     "cell_type": "markdown",
     "metadata": {},
     "source": [
      "Supongamos que la part\u00edcula esta compuesta por tres entradas, la posicio\u00f3n $x$, la velocidad $v$ y la masa $m$. La entrada de la posicion deberia de operarse como:\n",
      "$$x' = x + v \\delta t, $$\n",
      "\n",
      "donde $x'$ es la nueva posici\u00f3n.\n",
      " \n",
      "Como no se conoce la aceleraci\u00f3n entonces se considerar\u00e1 un movimiento rectil\u00edneo uniforme. La entrada de la velocidad y la masa se mantienen constantes.\n",
      "\n",
      "Por medio de una funci\u00f3n ser\u00eda posible operar de esta manera, \u00fanicamente en la entrada del arreglo de la part\u00edcula correspondiente a la posici\u00f3n.\n",
      "\n",
      "----------------"
     ]
    },
    {
     "cell_type": "markdown",
     "metadata": {},
     "source": [
      "(iii) \u00bfSi necesitas otra part\u00edcula con las mismas propiedades, qu\u00e9 har\u00edas?\n",
      "\n",
      "Meterle un nuevo renglon al rreglo, volviendolo un arreglo $3 \\times 2$. \u00edcula 1 y el segundo a l apart\u00edcula 2. El primer rengl\u00f3n correesponder\u00eda a la part\u00edcula 1 y el segundo rengl\u00f3n a la part\u00edcula 2. La columna 1 ser\u00eda de puras posiciones, la dos de velocidades y la tres de masas.\n",
      "\n",
      "Si se quiere desplazar a las part\u00edculas ser\u00e1 necesario hacer la operaci\u00f3n ya mencionada en el inciso (ii) sobre los elementos de la primera columna del arreglo de las part\u00edculas.\n",
      "\n",
      "\n",
      "\n",
      "--------------------"
     ]
    },
    {
     "cell_type": "markdown",
     "metadata": {},
     "source": [
      "(iv) Para $N$ tales part\u00edculas, \u00bfqu\u00e9 podr\u00edas hacer?\n",
      "\n",
      "Extender el arreglo a uno donde haya $N$ renglones y 3 columnas.\n",
      "______\n"
     ]
    },
    {
     "cell_type": "markdown",
     "metadata": {},
     "source": [
      "[2] Define un tipo que se llama `Particula`, que tiene variables para la posici\u00f3n, velocidad y masa en una dimensi\u00f3n."
     ]
    },
    {
     "cell_type": "code",
     "collapsed": false,
     "input": [
      "type Particula\n",
      "    x::Float64\n",
      "    v::Float64\n",
      "    m::Float64\n",
      "end"
     ],
     "language": "python",
     "metadata": {},
     "outputs": [],
     "prompt_number": 1
    },
    {
     "cell_type": "markdown",
     "metadata": {},
     "source": [
      "________________\n",
      "[3] Experimenta para ver c\u00f3mo crear un objeto de tipo `Particula`.  [Pista: piensa en funciones]\n",
      "end"
     ]
    },
    {
     "cell_type": "code",
     "collapsed": false,
     "input": [
      "part1=Particula(1,2,3)"
     ],
     "language": "python",
     "metadata": {},
     "outputs": [
      {
       "metadata": {},
       "output_type": "pyout",
       "prompt_number": 2,
       "text": [
        "Particula(1.0,2.0,3.0)"
       ]
      }
     ],
     "prompt_number": 2
    },
    {
     "cell_type": "code",
     "collapsed": false,
     "input": [
      "part2=Particula(2*part1.x,part1.v/2,part1.m+3)"
     ],
     "language": "python",
     "metadata": {},
     "outputs": [
      {
       "metadata": {},
       "output_type": "pyout",
       "prompt_number": 3,
       "text": [
        "Particula(2.0,1.0,6.0)"
       ]
      }
     ],
     "prompt_number": 3
    },
    {
     "cell_type": "markdown",
     "metadata": {},
     "source": [
      "_____________\n",
      "[4] \u00bfC\u00f3mo podemos definir una funci\u00f3n `mover` que mueve la part\u00edcula en un paso de tiempo $\\delta t$? [Pista: Para especificar que un objeto `t` es de tipo `MiTipo`, usamos la sintaxis `t::MiTipo`.]"
     ]
    },
    {
     "cell_type": "code",
     "collapsed": false,
     "input": [
      "function mover(p::Particula,\u03b4t::Real)\n",
      "    Particula(p.x+p.v*\u03b4t,p.v,p.m)\n",
      "end    "
     ],
     "language": "python",
     "metadata": {},
     "outputs": [
      {
       "metadata": {},
       "output_type": "pyout",
       "prompt_number": 4,
       "text": [
        "mover (generic function with 1 method)"
       ]
      }
     ],
     "prompt_number": 4
    },
    {
     "cell_type": "code",
     "collapsed": false,
     "input": [
      "mover(part1,2)"
     ],
     "language": "python",
     "metadata": {},
     "outputs": [
      {
       "metadata": {},
       "output_type": "pyout",
       "prompt_number": 5,
       "text": [
        "Particula(5.0,2.0,3.0)"
       ]
      }
     ],
     "prompt_number": 5
    },
    {
     "cell_type": "code",
     "collapsed": false,
     "input": [
      "mover(Particula(1,1,1),2.0)"
     ],
     "language": "python",
     "metadata": {},
     "outputs": [
      {
       "metadata": {},
       "output_type": "pyout",
       "prompt_number": 6,
       "text": [
        "Particula(3.0,1.0,1.0)"
       ]
      }
     ],
     "prompt_number": 6
    },
    {
     "cell_type": "markdown",
     "metadata": {},
     "source": [
      "-------------------\n",
      "\n",
      "[5] Define un objeto `Gas` que representa $N$ part\u00edculas, as\u00ed como una funci\u00f3n `mover` que mueve el gas."
     ]
    },
    {
     "cell_type": "code",
     "collapsed": false,
     "input": [
      "type Gas\n",
      "    p1::Particula\n",
      "    p2::Particula\n",
      "    p3::Particula\n",
      "end"
     ],
     "language": "python",
     "metadata": {},
     "outputs": [],
     "prompt_number": 7
    },
    {
     "cell_type": "code",
     "collapsed": false,
     "input": [
      "part3=Particula(1,2,1)"
     ],
     "language": "python",
     "metadata": {},
     "outputs": [
      {
       "metadata": {},
       "output_type": "pyout",
       "prompt_number": 8,
       "text": [
        "Particula(1.0,2.0,1.0)"
       ]
      }
     ],
     "prompt_number": 8
    },
    {
     "cell_type": "code",
     "collapsed": false,
     "input": [
      "gas1=Gas(part1,part2,part3)"
     ],
     "language": "python",
     "metadata": {},
     "outputs": [
      {
       "metadata": {},
       "output_type": "pyout",
       "prompt_number": 9,
       "text": [
        "Gas(Particula(1.0,2.0,3.0),Particula(2.0,1.0,6.0),Particula(1.0,2.0,1.0))"
       ]
      }
     ],
     "prompt_number": 9
    },
    {
     "cell_type": "code",
     "collapsed": false,
     "input": [
      "function mover(g::Gas,\u03b4t::Real)\n",
      "    Gas(mover(g.p1,\u03b4t), mover(g.p2,\u03b4t), mover(g.p3,\u03b4t))\n",
      "end"
     ],
     "language": "python",
     "metadata": {},
     "outputs": [
      {
       "metadata": {},
       "output_type": "pyout",
       "prompt_number": 10,
       "text": [
        "mover (generic function with 2 methods)"
       ]
      }
     ],
     "prompt_number": 10
    },
    {
     "cell_type": "code",
     "collapsed": false,
     "input": [
      "mover(gas1,2.0)"
     ],
     "language": "python",
     "metadata": {},
     "outputs": [
      {
       "metadata": {},
       "output_type": "pyout",
       "prompt_number": 11,
       "text": [
        "Gas(Particula(5.0,2.0,3.0),Particula(4.0,1.0,6.0),Particula(5.0,2.0,1.0))"
       ]
      }
     ],
     "prompt_number": 11
    },
    {
     "cell_type": "markdown",
     "metadata": {},
     "source": [
      "---------------------\n",
      "[6] Considera una estructura compuesta que denotaremos\n",
      "${\\overline v} = (f_v, d_v)$, que consta de dos campos `f_v` y `d_v`, que son flotantes. Esta estructura est\u00e1 definida de tal manera que se cumplen las siguientes propiedades:\n",
      "\n",
      "\\begin{align}\n",
      "{\\overline c} &= (c,0), &\\textrm{ para toda constante $c$},\\\\\n",
      "{\\overline x} &= (x_0,1), &\\textrm{para toda variable independiente $x = x_0$},\\\\\n",
      "{\\overline v} \\pm {\\overline w} & =  (f_v \\pm f_w, d_v \\pm d_w),\\\\\n",
      "{\\overline v} \\cdot {\\overline w} & =  (f_v \\cdot f_w, f_v \\cdot d_w + d_v \\cdot f_w),\\\\\n",
      "\\frac{{\\overline v}}{{\\overline w}} & =  \n",
      "\\left( \\frac{f_v}{f_w}, \\frac{d_v \\cdot f_w - f_v \\cdot d_w}{f_w^2} \\right),\\\\\n",
      "{\\overline u}^\\alpha &= (f_u^\\alpha, \\alpha f_u^{\\alpha-1} d_u), &\\textrm{donde $\\alpha$ \n",
      "es un n\u00famero real}.\n",
      "\\end{align}\n",
      "\n",
      "\n",
      "i. Implementa esto usando Julia."
     ]
    },
    {
     "cell_type": "code",
     "collapsed": false,
     "input": [
      "type FD\n",
      "    f::Float64\n",
      "    d::Float64\n",
      "end\n",
      "\n",
      "\n",
      "function FD(c)\n",
      "    FD(c,0.0)\n",
      "end\n",
      "\n",
      "################# Aritm\u00e9tica ####################\n",
      "\n",
      "# Sumas\n",
      "\n",
      "function +(x::FD,y::FD)\n",
      "    FD(x.f+y.f,x.d+y.d)\n",
      "end\n",
      "\n",
      "function +(x::Real,y::FD)\n",
      "    FD(x+y.f,y.d)\n",
      "end\n",
      "\n",
      "function +(x::FD,y::Real)\n",
      "    FD(x.f+y,x.d)\n",
      "end\n",
      "\n",
      "#Restas\n",
      "function -(x::FD,y::FD)\n",
      "    FD(x.f-y.f,x.d-y.d)\n",
      "end\n",
      "\n",
      "function -(x::Real,y::FD)\n",
      "    FD(x-y.f,-y.d)\n",
      "end\n",
      "\n",
      "function -(x::FD,y::Real)\n",
      "    FD(x.f-y,x.d)\n",
      "end\n",
      "\n",
      "#Multiplicaciones\n",
      "function *(x::FD,y::FD)\n",
      "    FD(x.f*y.f, x.f*y.d+y.f*x.d)\n",
      "end\n",
      "\n",
      "function *(x::Real,y::FD)\n",
      "    FD(x*y.f, x.*y.d)\n",
      "end\n",
      "\n",
      "function *(x::FD,y::Real)\n",
      "    FD(x.f*y, x.d*y)\n",
      "end\n",
      "\n",
      "#Divisiones\n",
      "function /(x::FD,y::Real)\n",
      "    FD(x.f/y, x.d/y)\n",
      "end\n",
      "\n",
      "function /(x::FD,y::FD)\n",
      "    FD(x.f/y.f, (y.f*x.d-x.f*y.d)/y.f^2)\n",
      "end\n",
      "\n",
      "#Exponencial\n",
      "function ^(x::FD,a::Integer)\n",
      "    FD(x.f^a,a*x.f^(a-1)*x.d)\n",
      "end\n",
      "\n",
      "function ^(x::FD,a::FloatingPoint)\n",
      "    FD(x.f^a,a*x.f^(a-1)*x.d)\n",
      "end"
     ],
     "language": "python",
     "metadata": {},
     "outputs": [
      {
       "metadata": {},
       "output_type": "pyout",
       "prompt_number": 12,
       "text": [
        "^ (generic function with 47 methods)"
       ]
      }
     ],
     "prompt_number": 12
    },
    {
     "cell_type": "code",
     "collapsed": false,
     "input": [],
     "language": "python",
     "metadata": {},
     "outputs": [],
     "prompt_number": 13
    },
    {
     "cell_type": "markdown",
     "metadata": {},
     "source": [
      "ii. Define un polinomio $p(x)$ cuya variable independiente es $x$. Eval\u00faa el polinomio en ${\\overline x}$ (variable independiente $x$), en $x_0=0$. \u00bfQu\u00e9 interpretaci\u00f3n tiene *el valor* obtenido para $d_x$? Y si en lugar de un polinomio utilizas un cociente de polinomios $r({\\overline x}) = p({\\overline x}) / q({\\overline x})$?"
     ]
    },
    {
     "cell_type": "code",
     "collapsed": false,
     "input": [
      "function p(x)\n",
      "    x=FD(x,1.0)\n",
      "    x^3+3x^2+2x-1\n",
      "end"
     ],
     "language": "python",
     "metadata": {},
     "outputs": [
      {
       "metadata": {},
       "output_type": "pyout",
       "prompt_number": 14,
       "text": [
        "p (generic function with 1 method)"
       ]
      }
     ],
     "prompt_number": 14
    },
    {
     "cell_type": "code",
     "collapsed": false,
     "input": [
      "p(0)"
     ],
     "language": "python",
     "metadata": {},
     "outputs": [
      {
       "metadata": {},
       "output_type": "pyout",
       "prompt_number": 15,
       "text": [
        "FD(-1.0,2.0)"
       ]
      }
     ],
     "prompt_number": 15
    },
    {
     "cell_type": "code",
     "collapsed": false,
     "input": [
      "FD(0,1)^3 + 2*FD(0,1) -1"
     ],
     "language": "python",
     "metadata": {},
     "outputs": [
      {
       "metadata": {},
       "output_type": "pyout",
       "prompt_number": 16,
       "text": [
        "FD(-1.0,2.0)"
       ]
      }
     ],
     "prompt_number": 16
    },
    {
     "cell_type": "code",
     "collapsed": false,
     "input": [
      "function q(x)\n",
      "    x=FD(x,1.0)\n",
      "    3x^2+5x+3\n",
      "end\n",
      "    "
     ],
     "language": "python",
     "metadata": {},
     "outputs": [
      {
       "metadata": {},
       "output_type": "pyout",
       "prompt_number": 34,
       "text": [
        "q (generic function with 1 method)"
       ]
      }
     ],
     "prompt_number": 34
    },
    {
     "cell_type": "code",
     "collapsed": false,
     "input": [
      "q(0)"
     ],
     "language": "python",
     "metadata": {},
     "outputs": [
      {
       "metadata": {},
       "output_type": "pyout",
       "prompt_number": 35,
       "text": [
        "FD(3.0,5.0)"
       ]
      }
     ],
     "prompt_number": 35
    },
    {
     "cell_type": "code",
     "collapsed": false,
     "input": [
      "function r(x)\n",
      "    x=FD(x,1)\n",
      "    r=p(x)/q(x)\n",
      "    r\n",
      "end"
     ],
     "language": "python",
     "metadata": {},
     "outputs": [
      {
       "metadata": {},
       "output_type": "pyout",
       "prompt_number": 42,
       "text": [
        "r (generic function with 1 method)"
       ]
      }
     ],
     "prompt_number": 42
    },
    {
     "cell_type": "code",
     "collapsed": false,
     "input": [
      "r(0)"
     ],
     "language": "python",
     "metadata": {},
     "outputs": [
      {
       "ename": "LoadError",
       "evalue": "`convert` has no method matching convert(::Type{Float64}, ::FD)\nwhile loading In[43], in expression starting on line 1",
       "output_type": "pyerr",
       "traceback": [
        "`convert` has no method matching convert(::Type{Float64}, ::FD)\nwhile loading In[43], in expression starting on line 1",
        "",
        " in p at In[14]:2",
        " in r at In[42]:3"
       ]
      }
     ],
     "prompt_number": 43
    },
    {
     "cell_type": "code",
     "collapsed": false,
     "input": [
      "x=1"
     ],
     "language": "python",
     "metadata": {},
     "outputs": [
      {
       "metadata": {},
       "output_type": "pyout",
       "prompt_number": 37,
       "text": [
        "1"
       ]
      }
     ],
     "prompt_number": 37
    },
    {
     "cell_type": "code",
     "collapsed": false,
     "input": [
      "r=p(x)"
     ],
     "language": "python",
     "metadata": {},
     "outputs": [
      {
       "ename": "LoadError",
       "evalue": "invalid redefinition of constant r\nwhile loading In[48], in expression starting on line 1",
       "output_type": "pyerr",
       "traceback": [
        "invalid redefinition of constant r\nwhile loading In[48], in expression starting on line 1",
        ""
       ]
      }
     ],
     "prompt_number": 48
    },
    {
     "cell_type": "code",
     "collapsed": false,
     "input": [
      "x=FD(0)"
     ],
     "language": "python",
     "metadata": {},
     "outputs": [
      {
       "metadata": {},
       "output_type": "pyout",
       "prompt_number": 50,
       "text": [
        "FD(0.0,0.0)"
       ]
      }
     ],
     "prompt_number": 50
    },
    {
     "cell_type": "code",
     "collapsed": false,
     "input": [
      "FD(x)=p(4)"
     ],
     "language": "python",
     "metadata": {},
     "outputs": [
      {
       "metadata": {},
       "output_type": "pyout",
       "prompt_number": 53,
       "text": [
        "FD (constructor with 3 methods)"
       ]
      }
     ],
     "prompt_number": 53
    },
    {
     "cell_type": "code",
     "collapsed": false,
     "input": [
      "x"
     ],
     "language": "python",
     "metadata": {},
     "outputs": [
      {
       "metadata": {},
       "output_type": "pyout",
       "prompt_number": 54,
       "text": [
        "FD(0.0,0.0)"
       ]
      }
     ],
     "prompt_number": 54
    },
    {
     "cell_type": "code",
     "collapsed": false,
     "input": [],
     "language": "python",
     "metadata": {},
     "outputs": []
    }
   ],
   "metadata": {}
  }
 ]
}