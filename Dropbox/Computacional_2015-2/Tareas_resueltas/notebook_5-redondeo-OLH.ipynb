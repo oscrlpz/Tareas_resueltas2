{
 "metadata": {
  "language": "Julia",
  "name": "",
  "signature": "sha256:b0d8a468630d811fc4f70a0ecb1837ca7b8c1925a3c80a1a4334a3c50403372d"
 },
 "nbformat": 3,
 "nbformat_minor": 0,
 "worksheets": [
  {
   "cells": [
    {
     "cell_type": "markdown",
     "metadata": {},
     "source": [
      "**Notebook 5. Redondeo**\n",
      "\n",
      "Soluciones"
     ]
    },
    {
     "cell_type": "markdown",
     "metadata": {},
     "source": [
      "----------------\n",
      "**Ejercicio [1]** "
     ]
    },
    {
     "cell_type": "markdown",
     "metadata": {},
     "source": [
      "**i)**\n",
      "\n",
      "Recordemos como es la representaci\u00f3n flotante de IEEE-754. Se tienen 64 bits, 1 para el signo, 11 para el exponente y 52 para la mantisa (53 ya que se utiliza un *hidden bit*). En este caso el conjunto $F^*$ son todos los n\u00fameros reales que se puedan representar con esos 64 bits. Todos los n\u00fameros que tengan m\u00e1s de 52 *bits* en su representaci\u00f3n binaria ser\u00e1n imposibles de representar de manera exacta en $F^*$, es a este tipo de n\u00fameros a los cuales se les tendr\u00e1 que aplice el redondeo.\n",
      "\n",
      "C\u00f3mo se esta suponiendo que se puede representar a $x$ con precisi\u00f3n infinita, entonces se puede conocer el valor que tiene $b_{53}$. Donde se est\u00e1 siguiendo la convenci\u00f3n de enumerar a los elementos de la mantisa de la siguiente manera $[b_0.b_1b_2b_3...b_{52}b_{53}...]_2$, donde $b_0$ es el *hidden bit*. Para representar a $x$ dentro de $F^*$, lo que se necesita hacer es asignarle a $x$ una mantisa de 52 *bits* y para hacer eso es donde entra el redondeo.\n",
      "\n",
      "Para $\\bigtriangledown(x)$:\n",
      "\n",
      "- Cuando se redondea para abajo lo que se hace es redondear hacia $-\\infty$. Si se tiene un positivo, se trunca la mantisa hasta el *bit* 52, desechando todos los que van despu\u00e9s, claramente este n\u00famero es el n\u00famero Float64 mas cercano a $x$ y que se encunetra a hacia $-\\infty$. \n",
      "\n",
      "- Si el n\u00famero es negativo y se trunca hasta 52 bits entonces dicho n\u00famero ser\u00e1 su redondeo pero hacia $+\\infty$. Si se quiere ir hacia $-\\infty$ ser\u00e1 necesario buscar el n\u00famero que pertenezcca a $F^*$ y sea inmediatamente anterior al negativo truncado hasta 52 *bits*. Es por esto que para hallar el redondeo para abajo de un negativo se le resta $[(1]_2\\times2^{-52})\\times 2^e$ al truncado de 52 *bits* del negativo.\n",
      "\n",
      "Para $\\bigtriangleup(x)$ (siguiendo la misma idea que para el redondeo para abajo):\n",
      "\n",
      "- Si se tiene un positivo, se trunca la mantisa hasta el *bit* 52 y se le suma $([1]_2\\times2^{-52})\\times 2^e$. \n",
      "\n",
      "- Si el n\u00famero es negativo, se trunca hasta $b_{52}$ y ya."
     ]
    },
    {
     "cell_type": "markdown",
     "metadata": {},
     "source": [
      "**ii)**\n",
      "\n",
      "En binario $0.1$ no tiene una representaci\u00f3n finita sino que est\u00e1 representado por una cadena binaria peri\u00f3dica infinita, donde:\n",
      "\n",
      "\\begin{equation} \n",
      "[0.1]_{10} = [0.000110011001100\\overline{1100} \\dots]_2 .\n",
      "\\end{equation}\n",
      "\n",
      "Si se escribe en formato de flotante IEEE-754 y se trunca hasta 52 bits queda que:\n",
      "\n",
      "\\begin{equation} \n",
      "\\bigtriangledown (0.1)= (-1)^0 \\times [1.1001100110011001100110011001100110011001100110011001]_2 \\times 2^{-4},\n",
      "\\end{equation}\n",
      "\n",
      "donde este n\u00famero es el redondeo para abajo.\n",
      "\n",
      "Si a la cadena truncada a 52 *bits* se le suma $([1]_2 \\times 2^{-52})\\times 2^{-4}$  entonces se obtiene el redondeo para arriba:\n",
      "\n",
      "\\begin{equation} \n",
      "\\bigtriangleup (0.1) = (-1)^0 \\times [1.1001100110011001100110011001100110011001100110011010]_2 \\times 2^{-4},\n",
      "\\end{equation}\n",
      "\n",
      "Si quiero representar estas dos cadenas de bit en 64 bits se llega a que:\n",
      "\n",
      "\\begin{equation} \n",
      "\\bigtriangleup (x) = 0.1 ,\n",
      "\\end{equation}\n",
      "\n",
      "y\n",
      "\n",
      "\\begin{equation} \n",
      "\\bigtriangledown (x) = 0.09999999999999999 .\n",
      "\\end{equation}\n",
      "\n",
      "La diferencia  es: $[0.0000000000000000000000000000000000000000000000000001]_2 \\times 2^{-4}= [1.0]_2 \\times 2^{-56}$, entonces $\\Delta=1.3877787807814457 \\times 10 ^{-17}$.\n",
      "\n",
      "Para verificar el resultado, se ocupa precisi\u00f3n de 256 *bits* y se obtiene que:\n",
      "\n",
      "\\begin{equation} \n",
      "\\bigtriangleup (x) = 0.1000000000000000055511151231257827021181583404541015625 ,\n",
      "\\end{equation}\n",
      "\n",
      "y\n",
      "\n",
      "\\begin{equation} \n",
      "\\bigtriangledown (x) = 0.09999999999999999167332731531132594682276248931884765625 .\n",
      "\\end{equation}\n",
      "\n",
      "Que difieren en $ \\Delta =1.387778780781445675529539585113525390625 \\times 10^{-17}$, que coincide con lo que ya se hab\u00eda hallado."
     ]
    },
    {
     "cell_type": "markdown",
     "metadata": {},
     "source": [
      "Para poder ver la dimensi\u00f3n del error de redondeo hay que usar precis\u00f3n de 256 bits y se llega a que la diferencia entre el redondeo para arriba y $x$ es de."
     ]
    },
    {
     "cell_type": "markdown",
     "metadata": {},
     "source": [
      "---------------------------\n",
      "**Ejercicio [2]**"
     ]
    },
    {
     "cell_type": "markdown",
     "metadata": {},
     "source": [
      "**i)**\n",
      "\n",
      "Para $x=1.1$ se tiene que su representacion binaria es $[1.00011001100\\overline{1100}\\dots]_2$, la cual truncada a 52 *bits* en la manstisa queda como:\n",
      "\n",
      "\\begin{equation} \n",
      "\\bigtriangledown (1.1)= (-1)^0 \\times [1.0001100110011001100110011001100110011001100110011001]_2 \\times 2^{0},\n",
      "\\end{equation}\n",
      "\n",
      "Sum\u00e1ndole $[1.0]_2\\times 2^{-52}$ se obtiene que su redondeo para arriba es de:\n",
      "\n",
      "\\begin{equation} \n",
      "\\bigtriangleup (1.1)= (-1)^0 \\times [1.0001100110011001100110011001100110011001100110011010]_2 \\times 2^{0},\n",
      "\\end{equation}"
     ]
    },
    {
     "cell_type": "markdown",
     "metadata": {},
     "source": [
      "**ii)**\n",
      "\n",
      "Para $x=10.1$ se tiene que su representacion binaria es $[1010.00011001100\\overline{1100}\\dots]_2$, la cual truncada a 52 *bits* en la manstisa queda como:\n",
      "\n",
      "\\begin{equation} \n",
      "\\bigtriangledown (1.1)= (-1)^0 \\times [1.1010000110011001100110011001100110011001100110011001]_2 \\times 2^{3},\n",
      "\\end{equation}\n",
      "\n",
      "Sum\u00e1ndole $([1.0]_2\\times 2^{-52})\\times 2^3$ se obtiene que su redondeo para arriba es de:\n",
      "\n",
      "\\begin{equation} \n",
      "\\bigtriangleup (1.1)= (-1)^0 \\times [1.0001100110011001100110011001100110011001100110011010]_2 \\times 2^{3},\n",
      "\\end{equation}"
     ]
    },
    {
     "cell_type": "markdown",
     "metadata": {},
     "source": [
      "------------\n",
      "**Ejercicio [3]**\n",
      "\n",
      "\n",
      "En ese caso de que $x \\in F^*$ ambos redondeos deben de ser iguales, tal que:\n",
      "\n",
      "\\begin{equation} \n",
      "\\bigtriangledown (x)= \\bigtriangleup(x) = x\n",
      "\\end{equation}"
     ]
    },
    {
     "cell_type": "markdown",
     "metadata": {},
     "source": [
      "-----------------\n",
      "**Ejercicio [4]**\n",
      " \n",
      "En el ejercicio [1] inciso (i) ya se discuti\u00f3 que le ocurren a los negativos y positivos que se redondean. Consid\u00e9rese un positivo $x$  que se redondea hacia abajo, lo que se le hace es truncar su mantisa hasta el *bit* 52 de la mantisa. Para el caso del negativo del mismo $x$, si se redondea para arriba s\u00f3lo se trunca su mantisa hasta el *bit* 52. De modo que salvo el signo, $x$ redondeado hacia abajo es lo mismo que $-x$ redondeado hacia abajo.\n",
      "\n",
      "\\begin{equation}\n",
      "\\bigtriangledown(x)=-\\bigtriangleup(-x)\n",
      "\\end{equation}\n",
      "\n",
      "En el caso contrario, si se redondea para arriba un $x$ positivo entonces se trunca a 52 *bits* su mantisa y se le suma $([1.0]_2\\times 2{e+52}$. Para $-x$ redondeado para abajo, se trunca para hasta 52 *bits* y se le resta $([1.0]_2\\times 2{e+52}$. Por lo tanto:\n",
      "\n",
      "\\begin{equation}\n",
      "\\bigtriangleup(x)=-\\bigtriangledown(-x)\n",
      "\\end{equation}\n"
     ]
    },
    {
     "cell_type": "markdown",
     "metadata": {},
     "source": [
      "---------------\n",
      "**Ejercicio [5]**"
     ]
    },
    {
     "cell_type": "markdown",
     "metadata": {},
     "source": [
      "Si $x=0.5$ y $y=5$, entonces $\\frac{0.5}{5}=0.1$ no pertenece a $F^*$ ya que como ya se vio $0.1$ es periodicio y no se puede representar de manera excata en $F^*$."
     ]
    },
    {
     "cell_type": "code",
     "collapsed": false,
     "input": [
      "0.5/5"
     ],
     "language": "python",
     "metadata": {},
     "outputs": [
      {
       "metadata": {},
       "output_type": "pyout",
       "prompt_number": 1,
       "text": [
        "0.1"
       ]
      }
     ],
     "prompt_number": 1
    },
    {
     "cell_type": "markdown",
     "metadata": {},
     "source": [
      "Para el caso de la suma consid\u00e9rense dos n\u00fameros $a$ y $b$ que pertencen a $F$:\n",
      "\n",
      "\\begin{equation}\n",
      "a= [1.a_1a_2a_3 \\dots a_{52}]_2\\times 2^e \\\\\n",
      "b = [1.b_1b_2b_3\\dots b_{52}]_2\\times 2^{e-1}=[0.1b_1b_2b_3\\dots b_{52}]_2\\times 2^e,\n",
      "\\end{equation}\n",
      "\n",
      "Sea $c=a+b$, como los exponentes de $a$ y $b$ son iguales, entonces la mantisa de $c$ se obtiene de la siguiente suma,\n",
      "\n",
      "\n",
      "\\begin{matrix}\n",
      "  &1.&a_1&a_2&b_3&\\dots&a_{52}& & \\\\\n",
      "  +&0.&1&b_1&b_2&\\dots&b_{51}&b_{52} \\\\\n",
      "  \\hline \\\\\n",
      "  &1.&c_1&c_2&c_3&\\dots&c_{52}&c_{53}\n",
      " \\end{matrix} \n",
      "\n",
      "\n",
      "N\u00f3tese que si $b_{52}\\neq0$ entonces se tiene que $c$ tiene una mantisa con 53 elementos, ya que $c_{53}=b_{52}$. Dicho n\u00famero no pertenece al conjunto $F$ y debe de ser redondeado."
     ]
    },
    {
     "cell_type": "markdown",
     "metadata": {},
     "source": [
      "---------------\n",
      "**Ejercicio [6]**\n",
      "\n",
      "Solamente queda redondear el resultado y asignarle un n\u00famero que este dentro de $F$. O aumentar la precisi\u00f3n para que pueda tener mas de $52$ *bits* en la mantisa, por ejemplo con n\u00fameros BigFloat de 256 *bits* de precisi\u00f3n."
     ]
    },
    {
     "cell_type": "markdown",
     "metadata": {},
     "source": [
      "-----------------\n",
      "**Ejercicio [7]**\n",
      "\n",
      "No, En general no se cumple que si $x+z=x+y \\Rightarrow y=z$. Propongo el siguiente contraejemplo, sea $x=1$, $y=0.5000000000000001$ y $z=0.5$, entonces:"
     ]
    },
    {
     "cell_type": "code",
     "collapsed": false,
     "input": [
      "x=1\n",
      "y=0.5000000000000001\n",
      "z=0.5"
     ],
     "language": "python",
     "metadata": {},
     "outputs": [
      {
       "metadata": {},
       "output_type": "pyout",
       "prompt_number": 2,
       "text": [
        "0.5"
       ]
      }
     ],
     "prompt_number": 2
    },
    {
     "cell_type": "code",
     "collapsed": false,
     "input": [
      "x+y==x+z"
     ],
     "language": "python",
     "metadata": {},
     "outputs": [
      {
       "metadata": {},
       "output_type": "pyout",
       "prompt_number": 3,
       "text": [
        "true"
       ]
      }
     ],
     "prompt_number": 3
    },
    {
     "cell_type": "code",
     "collapsed": false,
     "input": [
      "y==z"
     ],
     "language": "python",
     "metadata": {},
     "outputs": [
      {
       "metadata": {},
       "output_type": "pyout",
       "prompt_number": 4,
       "text": [
        "false"
       ]
      }
     ],
     "prompt_number": 4
    },
    {
     "cell_type": "markdown",
     "metadata": {},
     "source": [
      "Por lo anterior se observa que la maquina reconoce que $x+y=x+z$, sin embargo tambien indica que $y \\neq z$."
     ]
    },
    {
     "cell_type": "markdown",
     "metadata": {},
     "source": [
      "---------------\n",
      "\n",
      "**Ejercicio [8]**"
     ]
    },
    {
     "cell_type": "markdown",
     "metadata": {},
     "source": [
      "**1.** Anal\u00edticamente el mapeo es c\u00edclico, esto es, partiendo de $x_0=\\frac{1}{10}$ se tiene que el primer paso arroja el resultado de:\n",
      "\n",
      "$f(\\frac{1}{10})=\\frac{3}{10}$\n",
      "\n",
      "El segundo paso es:\n",
      "\n",
      "$f(\\frac{3}{10})=\\frac{9}{10}$\n",
      "\n",
      "El tercer paso es:\n",
      "\n",
      "$f(\\frac{9}{10})=\\frac{1}{7}$\n",
      "\n",
      "Y el cuarto paso es:\n",
      "\n",
      "$f(\\frac{7}{10})=\\frac{1}{10}$,\n",
      "\n",
      "Con lo cual se regresa a la condici\u00f3n inicial, repitiendose el ciclo para pasos sucesivos. De tal manera que analiticamente el mapeo debe de ser cicilio y solo tomar estos 4 valores en el orden ya mostrado.\n"
     ]
    },
    {
     "cell_type": "markdown",
     "metadata": {},
     "source": [
      "**2.-** Para ver que es lo que est\u00e1 sucediendo num\u00e9ricamente, a continuaci\u00f3n se muestra el mapeo $f$ que se obtuvo utilizando la condici\u00f3n inicial $x_0=0.1$ y utilizando 100 pasos:"
     ]
    },
    {
     "cell_type": "code",
     "collapsed": false,
     "input": [
      "x=0.1\n",
      "f=[x=mod(3x,1) for n=1:100]\n",
      "n=[n for n=1:100]\n",
      "\n",
      "f"
     ],
     "language": "python",
     "metadata": {},
     "outputs": [
      {
       "metadata": {},
       "output_type": "pyout",
       "prompt_number": 5,
       "text": [
        "100-element Array{Any,1}:\n",
        " 0.3     \n",
        " 0.9     \n",
        " 0.7     \n",
        " 0.1     \n",
        " 0.3     \n",
        " 0.9     \n",
        " 0.7     \n",
        " 0.1     \n",
        " 0.3     \n",
        " 0.9     \n",
        " 0.7     \n",
        " 0.1     \n",
        " 0.3     \n",
        " \u22ee       \n",
        " 0.139152\n",
        " 0.417457\n",
        " 0.25237 \n",
        " 0.75711 \n",
        " 0.271329\n",
        " 0.813988\n",
        " 0.441964\n",
        " 0.325891\n",
        " 0.977674\n",
        " 0.933023\n",
        " 0.799068\n",
        " 0.397203"
       ]
      }
     ],
     "prompt_number": 5
    },
    {
     "cell_type": "markdown",
     "metadata": {},
     "source": [
      "Graifando dicho mapeo, $f vs n$, donde n es el n\u00famero de paso, se obtiene la siguiente gr\u00e1fica:"
     ]
    },
    {
     "cell_type": "code",
     "collapsed": false,
     "input": [
      "using PyPlot\n",
      "\n",
      "plot(n,f)"
     ],
     "language": "python",
     "metadata": {},
     "outputs": [
      {
       "metadata": {},
       "output_type": "display_data",
       "png": "[encoded data removed]",
       "text": [
        "Figure(PyObject <matplotlib.figure.Figure object at 0x7f0613270d50>)"
       ]
      },
      {
       "metadata": {},
       "output_type": "pyout",
       "prompt_number": 7,
       "text": [
        "1-element Array{Any,1}:\n",
        " PyObject <matplotlib.lines.Line2D object at 0x7f05ef9c9590>"
       ]
      }
     ],
     "prompt_number": 7
    },
    {
     "cell_type": "markdown",
     "metadata": {},
     "source": [
      "Fijandonos en el arreglo $f$ y la gr\u00e1fica anterior, es posible ver que num\u00e9ricamente los valores del mapeo dejan de oscilar cicilicamente depu\u00e9s de alrededor de 30 pasos. Estos es porque al ser $x_0=\\frac{1}{10}$ un n\u00famero que no se puede representar de manera exacta como flotante, entonces el redondeo le asocia un error que se va amplificando conforme se hacen m\u00e1s itereaciones del mapeo."
     ]
    },
    {
     "cell_type": "markdown",
     "metadata": {},
     "source": [
      "**3.-** En general si se escoge cualquier n\u00famero que no tenga representaci\u00f3n exacta en los flotantes entonces el error de redondeo eventualmente se amplificar\u00e1 los sufiente como para causar problemas en el c\u00e1lculo.\n",
      "\n",
      "Si se escoge un n\u00fameor con representaci\u00f3n exacta, por ejemplo, $x_0=0.625$, el cual en binario se representa como $[0.0001]_2$, entonces se obtiene el siguiente arreglo $f_2$ y su correspondiente gr\u00e1fica:"
     ]
    },
    {
     "cell_type": "code",
     "collapsed": false,
     "input": [
      "x=0.0625\n",
      "\n",
      "f2=[x=mod(3x,1) for n=1:100]\n",
      "n=[n for n=1:100]\n",
      "\n",
      "f2"
     ],
     "language": "python",
     "metadata": {},
     "outputs": [
      {
       "metadata": {},
       "output_type": "pyout",
       "prompt_number": 8,
       "text": [
        "100-element Array{Any,1}:\n",
        " 0.1875\n",
        " 0.5625\n",
        " 0.6875\n",
        " 0.0625\n",
        " 0.1875\n",
        " 0.5625\n",
        " 0.6875\n",
        " 0.0625\n",
        " 0.1875\n",
        " 0.5625\n",
        " 0.6875\n",
        " 0.0625\n",
        " 0.1875\n",
        " \u22ee     \n",
        " 0.1875\n",
        " 0.5625\n",
        " 0.6875\n",
        " 0.0625\n",
        " 0.1875\n",
        " 0.5625\n",
        " 0.6875\n",
        " 0.0625\n",
        " 0.1875\n",
        " 0.5625\n",
        " 0.6875\n",
        " 0.0625"
       ]
      }
     ],
     "prompt_number": 8
    },
    {
     "cell_type": "code",
     "collapsed": false,
     "input": [
      "plot(n,f2)"
     ],
     "language": "python",
     "metadata": {},
     "outputs": [
      {
       "metadata": {},
       "output_type": "display_data",
       "png": "[encoded data removed]",
       "text": [
        "Figure(PyObject <matplotlib.figure.Figure object at 0x7f05ef9d7690>)"
       ]
      },
      {
       "metadata": {},
       "output_type": "pyout",
       "prompt_number": 9,
       "text": [
        "1-element Array{Any,1}:\n",
        " PyObject <matplotlib.lines.Line2D object at 0x7f05ef908050>"
       ]
      }
     ],
     "prompt_number": 9
    },
    {
     "cell_type": "markdown",
     "metadata": {},
     "source": [
      "Es claro que el comportamiento es c\u00edclico tanto anal\u00edtica como num\u00e9ricamente, esto debido a que no existe redondeo que introduzca un error.\n",
      "\n",
      "Para hacer esto mas evidente se escogeran dos n\u00fameros m\u00e1s, primero $x_0=0.96875$ el cual pertenece a $F^*$ y tien una rpresentaci\u00f3n binaria exacta dada por $[0.11111]_2$.\n",
      "\n",
      "Graficando para mil pasos se observa lo siguiente:"
     ]
    },
    {
     "cell_type": "code",
     "collapsed": false,
     "input": [
      "x=0.96875\n",
      "\n",
      "f3=[x=mod(3x,1) for n=1:1000]\n",
      "n=[n for n=1:1000]\n",
      "\n",
      "plot(n,f3)"
     ],
     "language": "python",
     "metadata": {},
     "outputs": [
      {
       "metadata": {},
       "output_type": "display_data",
       "png": "[encoded data removed]",
       "text": [
        "Figure(PyObject <matplotlib.figure.Figure object at 0x7f060fc071d0>)"
       ]
      },
      {
       "metadata": {},
       "output_type": "pyout",
       "prompt_number": 10,
       "text": [
        "1-element Array{Any,1}:\n",
        " PyObject <matplotlib.lines.Line2D object at 0x7f05ef845310>"
       ]
      }
     ],
     "prompt_number": 10
    },
    {
     "cell_type": "markdown",
     "metadata": {},
     "source": [
      "Aun cuando se hacen mil pasos s e obsevr que jam\u00e1s se pierde el comprtamiento c\u00edcilico.\n",
      "\n",
      "En cambio tomese $x_0=0.35$, el cual tiene uan representacion binaria periodica [0.01011001100110011001100110011001100110011001100110011]_2. Graficando para cien puntos:"
     ]
    },
    {
     "cell_type": "code",
     "collapsed": false,
     "input": [
      "x=0.35\n",
      "\n",
      "f4=[x=mod(3x,1) for n=1:100]\n",
      "n=[n for n=1:100]\n",
      "\n",
      "plot(n,f4)"
     ],
     "language": "python",
     "metadata": {},
     "outputs": [
      {
       "metadata": {},
       "output_type": "display_data",
       "png": "[encoded data removed]",
       "text": [
        "Figure(PyObject <matplotlib.figure.Figure object at 0x7f05ef96ce10>)"
       ]
      },
      {
       "metadata": {},
       "output_type": "pyout",
       "prompt_number": 11,
       "text": [
        "1-element Array{Any,1}:\n",
        " PyObject <matplotlib.lines.Line2D object at 0x7f05ef7c0f90>"
       ]
      }
     ],
     "prompt_number": 11
    },
    {
     "cell_type": "markdown",
     "metadata": {},
     "source": [
      "Empieza siendo c\u00edcilico el comportamiento pero conforme avanzan los pasos, el error termina amplific\u00e1ndose lo suficiente como para perder el ciclo."
     ]
    },
    {
     "cell_type": "markdown",
     "metadata": {},
     "source": [
      "--------------------\n",
      "**Ejercicio [9]**\n",
      "\n",
      "\n",
      "\n"
     ]
    },
    {
     "cell_type": "code",
     "collapsed": false,
     "input": [
      "old=get_rounding(Float64) # Para guardar el redondeo default de Julia."
     ],
     "language": "python",
     "metadata": {},
     "outputs": [
      {
       "metadata": {},
       "output_type": "pyout",
       "prompt_number": 12,
       "text": [
        "RoundingMode(0)"
       ]
      }
     ],
     "prompt_number": 12
    },
    {
     "cell_type": "markdown",
     "metadata": {},
     "source": [
      "Calculando ingenuamente para $N=100000$:"
     ]
    },
    {
     "cell_type": "code",
     "collapsed": false,
     "input": [
      "set_rounding(Float64, old)\n",
      "sum([1/(n^2) for n=1:100000])"
     ],
     "language": "python",
     "metadata": {},
     "outputs": [
      {
       "metadata": {},
       "output_type": "pyout",
       "prompt_number": 50,
       "text": [
        "1.644924066898226"
       ]
      }
     ],
     "prompt_number": 50
    },
    {
     "cell_type": "markdown",
     "metadata": {},
     "source": [
      "Donde el resultado real es de:"
     ]
    },
    {
     "cell_type": "code",
     "collapsed": false,
     "input": [
      "pi^2/6"
     ],
     "language": "python",
     "metadata": {},
     "outputs": [
      {
       "metadata": {},
       "output_type": "pyout",
       "prompt_number": 51,
       "text": [
        "1.6449340668482264"
       ]
      }
     ],
     "prompt_number": 51
    },
    {
     "cell_type": "markdown",
     "metadata": {},
     "source": [
      "El c\u00e1lculo \"ingenuo\" coincide con el n\u00famero real hasta 4 decimales. "
     ]
    },
    {
     "cell_type": "markdown",
     "metadata": {},
     "source": [
      "**Ejercicio [10]**\n",
      "\n",
      "Al graficar se observa que geom\u00e9tricamente se cumple que para las colas $T_N$:\n",
      "\n",
      "$$\\int_{N+1}^\\infty \\frac{1}{x^2} dx < T_N < \\int_{N+1}^\\infty \\frac{1}{(x-1)^2} dx,$$\n",
      "\n",
      "\n",
      "Y resolviendo las integrales se llega a que las cotas de la cola son:\n",
      "\n",
      "\\begin{equation}\n",
      " \\frac{1}{N+1} < T_N < \\frac{1}{N}\n",
      "\\end{equation}\n",
      "\n",
      "Usando el valor de $N=100000$ que se ha venido utilizando queda:\n",
      "\n",
      "\\begin{equation}\n",
      " \\frac{1}{100001} < T_N < \\frac{1}{100000}\n",
      "\\end{equation}"
     ]
    },
    {
     "cell_type": "markdown",
     "metadata": {},
     "source": [
      "---------------\n",
      "**Ejercicio [11]**\n",
      "\n"
     ]
    },
    {
     "cell_type": "markdown",
     "metadata": {},
     "source": [
      "El redondeo para arriba queda como:"
     ]
    },
    {
     "cell_type": "code",
     "collapsed": false,
     "input": [
      "set_rounding(Float64, RoundUp)\n",
      "sup1=sum([1/(n^2) for n=1:100000])"
     ],
     "language": "python",
     "metadata": {},
     "outputs": [
      {
       "metadata": {},
       "output_type": "pyout",
       "prompt_number": 17,
       "text": [
        "1.6449240668982597"
       ]
      }
     ],
     "prompt_number": 17
    },
    {
     "cell_type": "markdown",
     "metadata": {},
     "source": [
      "El redondeo para abajo queda como:"
     ]
    },
    {
     "cell_type": "code",
     "collapsed": false,
     "input": [
      "set_rounding(Float64, RoundDown)\n",
      "sdown1=sum([1/(n^2) for n=1:100000])"
     ],
     "language": "python",
     "metadata": {},
     "outputs": [
      {
       "metadata": {},
       "output_type": "pyout",
       "prompt_number": 18,
       "text": [
        "1.644924066898195"
       ]
      }
     ],
     "prompt_number": 18
    },
    {
     "cell_type": "markdown",
     "metadata": {},
     "source": [
      "La separaci\u00f3n entre las cotas es de:"
     ]
    },
    {
     "cell_type": "code",
     "collapsed": false,
     "input": [
      "sup1-sdown1"
     ],
     "language": "python",
     "metadata": {},
     "outputs": [
      {
       "metadata": {},
       "output_type": "pyout",
       "prompt_number": 146,
       "text": [
        "6.461498003318411e-14"
       ]
      }
     ],
     "prompt_number": 146
    },
    {
     "cell_type": "markdown",
     "metadata": {},
     "source": [
      "Por lo tanto el resultado de $S_N$ se encuentra acotado entre $[1.6449240668982597,~1.644924066898195]$"
     ]
    },
    {
     "cell_type": "code",
     "collapsed": false,
     "input": [
      "set_rounding(Float64, old)"
     ],
     "language": "python",
     "metadata": {},
     "outputs": [
      {
       "metadata": {},
       "output_type": "pyout",
       "prompt_number": 24,
       "text": [
        "0"
       ]
      }
     ],
     "prompt_number": 24
    },
    {
     "cell_type": "markdown",
     "metadata": {},
     "source": [
      "-------------\n",
      "**Ejercicio [12]**\n"
     ]
    },
    {
     "cell_type": "markdown",
     "metadata": {},
     "source": [
      "Ya se vio que $T_N$ se encuentra acotado por $\\frac{1}{N}$ y $\\frac{1}{N+1}$ . Adem\u00e1s el resultado final es la suma de la parte inicial m\u00e1s las colas, $S=S_N+T_N$. Considerando las cotas obtenidas para $S_N$ y $T_N$ se tiene que, para el redondeo para abajo:"
     ]
    },
    {
     "cell_type": "code",
     "collapsed": false,
     "input": [
      "set_rounding(Float64, RoundDown)\n",
      "n=100000\n",
      "SD=sdown1+(1/(n+1))"
     ],
     "language": "python",
     "metadata": {},
     "outputs": [
      {
       "metadata": {},
       "output_type": "pyout",
       "prompt_number": 59,
       "text": [
        "1.644934066798196"
       ]
      }
     ],
     "prompt_number": 59
    },
    {
     "cell_type": "markdown",
     "metadata": {},
     "source": [
      "Y para el redondeo para arriba:"
     ]
    },
    {
     "cell_type": "code",
     "collapsed": false,
     "input": [
      "set_rounding(Float64, RoundUp)\n",
      "n=100000\n",
      "SU=sup1+(1/n)"
     ],
     "language": "python",
     "metadata": {},
     "outputs": [
      {
       "metadata": {},
       "output_type": "pyout",
       "prompt_number": 60,
       "text": [
        "1.6449340668982597"
       ]
      }
     ],
     "prompt_number": 60
    },
    {
     "cell_type": "code",
     "collapsed": false,
     "input": [
      "SD<pi^2/6<SU"
     ],
     "language": "python",
     "metadata": {},
     "outputs": [
      {
       "metadata": {},
       "output_type": "pyout",
       "prompt_number": 71,
       "text": [
        "true"
       ]
      }
     ],
     "prompt_number": 71
    },
    {
     "cell_type": "code",
     "collapsed": false,
     "input": [
      "set_rounding(Float64, old)"
     ],
     "language": "python",
     "metadata": {},
     "outputs": [
      {
       "metadata": {},
       "output_type": "pyout",
       "prompt_number": 72,
       "text": [
        "0"
       ]
      }
     ],
     "prompt_number": 72
    },
    {
     "cell_type": "markdown",
     "metadata": {},
     "source": [
      "$S$ se encuentra entre $[1.644934066798196,~1.6449340668982597]$, con lo cual se puede afirmar que conocemos el resultado hasta 9 cifras significativas. Efectivamente el resultado \"real\" es $\\frac{\\pi^2}{6}=1.6449340668482264$  se encuentra en el intervalo mencionado y coincide hasta las primeras 9 cifras: $1.644934066$."
     ]
    },
    {
     "cell_type": "markdown",
     "metadata": {},
     "source": [
      "La siguiente funci\u00f3n resume todo lo que se ha calculado y tiene como argumento el valor de N."
     ]
    },
    {
     "cell_type": "code",
     "collapsed": false,
     "input": [
      "function cotas(i)\n",
      "    \n",
      "    set_rounding(Float64, RoundDown)\n",
      "    sdown=sum([1/(n^2) for n=1:i])\n",
      "    tdown=1/(i+1)\n",
      "    SD=sdown+tdown\n",
      "    \n",
      "    set_rounding(Float64, RoundUp)\n",
      "    sup=sum([1/(n^2) for n=1:i])\n",
      "    tup=1/i\n",
      "    SU=sup+tup\n",
      "   \n",
      "    set_rounding(Float64, old)\n",
      " \n",
      "    \n",
      "    if SD<pi^2/6<SU\n",
      "        println(\"El valor de S se encuentra entre \", SD, \" y \", SU)\n",
      "    else\n",
      "       println(\"El valor de S  no se encuentra entre \", SD, \" y \", SU)\n",
      " \n",
      "    end\n",
      "    \n",
      "end"
     ],
     "language": "python",
     "metadata": {},
     "outputs": [
      {
       "metadata": {},
       "output_type": "pyout",
       "prompt_number": 124,
       "text": [
        "cotas (generic function with 1 method)"
       ]
      }
     ],
     "prompt_number": 124
    },
    {
     "cell_type": "markdown",
     "metadata": {},
     "source": [
      "N\u00f3tese como replica los resultados ya obtenidos."
     ]
    },
    {
     "cell_type": "code",
     "collapsed": false,
     "input": [
      "cotas(100000)"
     ],
     "language": "python",
     "metadata": {},
     "outputs": [
      {
       "output_type": "stream",
       "stream": "stdout",
       "text": [
        "El valor de S se encuentra entre 1"
       ]
      },
      {
       "output_type": "stream",
       "stream": "stdout",
       "text": [
        ".644934066798196 y 1.6449340668982597\n"
       ]
      }
     ],
     "prompt_number": 233
    },
    {
     "cell_type": "markdown",
     "metadata": {},
     "source": [
      "----------------\n",
      "**Ejercicio [13]**"
     ]
    },
    {
     "cell_type": "markdown",
     "metadata": {},
     "source": [
      "Tomando como base la funcion **cotas**, se modificar\u00e1 para BigFloat y se nombrar\u00e1 cotasBIG."
     ]
    },
    {
     "cell_type": "code",
     "collapsed": false,
     "input": [
      "function cotasBIG(i)\n",
      "    set_bigfloat_precision(100)\n",
      "    \n",
      "    set_rounding(BigFloat, RoundDown)\n",
      "    sdown=sum([big(1.0)/(n^2) for n=1:i])\n",
      "    tdown=big(1.0)/(i+1)\n",
      "    SD=big(sdown)+big(tdown)\n",
      "\n",
      "    \n",
      "    set_rounding(BigFloat, RoundUp)\n",
      "    sup=sum([big(1.0)/(n^2) for n=1:i])\n",
      "    tup=big(1/i)\n",
      "    SU=big(sup+tup)\n",
      "    \n",
      "    set_rounding(Float64, old)\n",
      " \n",
      "    \n",
      "    if SD<big(pi)^2/6<SU\n",
      "        println(\"El valor de S se encuentra entre \", SD, \" y \", SU)\n",
      "    else\n",
      "       println(\"El valor de S  no se encuentra entre \", SD, \" y \", SU)\n",
      " \n",
      "    end\n",
      "end"
     ],
     "language": "python",
     "metadata": {},
     "outputs": [
      {
       "metadata": {},
       "output_type": "pyout",
       "prompt_number": 248,
       "text": [
        "cotasBIG (generic function with 1 method)"
       ]
      }
     ],
     "prompt_number": 248
    },
    {
     "cell_type": "markdown",
     "metadata": {},
     "source": [
      "Utilizando el mismo $N=100000$ que para el c\u00e1lculo anterior se llega a que:"
     ]
    },
    {
     "cell_type": "code",
     "collapsed": false,
     "input": [
      "cotasBIG(100000)"
     ],
     "language": "python",
     "metadata": {},
     "outputs": [
      {
       "output_type": "stream",
       "stream": "stdout",
       "text": [
        "El valor de S se encuentra entre 1.6449340667982272697957486034289e+00"
       ]
      },
      {
       "output_type": "stream",
       "stream": "stdout",
       "text": [
        " y 1.6449340668982262698065665339716e+00\n",
        "0e+00\n"
       ]
      }
     ],
     "prompt_number": 249
    },
    {
     "cell_type": "markdown",
     "metadata": {},
     "source": [
      "-------------\n",
      "**Ejercicio [14]**"
     ]
    },
    {
     "cell_type": "markdown",
     "metadata": {},
     "source": [
      "Invirtiendo el orden de la suma, la cota superior de $S_N$ se vuelve:"
     ]
    },
    {
     "cell_type": "code",
     "collapsed": false,
     "input": [
      "set_rounding(Float64, RoundUp)\n",
      "sup2=sum([1/((100001-n)^2) for n=1:100000])"
     ],
     "language": "python",
     "metadata": {},
     "outputs": [
      {
       "metadata": {},
       "output_type": "pyout",
       "prompt_number": 196,
       "text": [
        "1.6449240668982275"
       ]
      }
     ],
     "prompt_number": 196
    },
    {
     "cell_type": "markdown",
     "metadata": {},
     "source": [
      "Mientras que la cota inferior de $S_N$ se vuelve:"
     ]
    },
    {
     "cell_type": "code",
     "collapsed": false,
     "input": [
      "set_rounding(Float64, RoundDown)\n",
      "sdown2=sum([1/((100001-n)^2) for n=1:100000])"
     ],
     "language": "python",
     "metadata": {},
     "outputs": [
      {
       "metadata": {},
       "output_type": "pyout",
       "prompt_number": 197,
       "text": [
        "1.6449240668982248"
       ]
      }
     ],
     "prompt_number": 197
    },
    {
     "cell_type": "markdown",
     "metadata": {},
     "source": [
      "La diferencia que hay entre esta dos cotas es de:"
     ]
    },
    {
     "cell_type": "code",
     "collapsed": false,
     "input": [
      "sup2-sdown2"
     ],
     "language": "python",
     "metadata": {},
     "outputs": [
      {
       "metadata": {},
       "output_type": "pyout",
       "prompt_number": 198,
       "text": [
        "2.6645352591003757e-15"
       ]
      }
     ],
     "prompt_number": 198
    },
    {
     "cell_type": "markdown",
     "metadata": {},
     "source": [
      "Cuando se sumaban de $1$ a $N$ la diferencia entre cota superior e inferior era de $6.461498003318411\\times 10^{-14}$, mientras que cuando se invierte la suma, sumando de $N$ a $1$ el intervalo se reduce a $2.6645352591003757\\times 10^{-15}$, que es un orden de magnitud menor. \n",
      "\n",
      "Por lo tanto es mejor sumar de $N$ a $1$ ya que el intervalo en el cual se halla la respuesta es menor de esta manera. Esto sucede porque al sumarse de esta manera se le da preferencia a los valores donde $\\frac{1}{N^2}$ es menor y tienen m\u00e1s cifras significativas. As\u00ed estos valores peque\u00f1os no se redondean tanto como si se sumaran al final.\n"
     ]
    },
    {
     "cell_type": "markdown",
     "metadata": {},
     "source": [
      "----------------\n",
      "**Ejercicio [15]**\n",
      "\n",
      "Para acotar de una manera an\u00e1loga a lo que se hizo previamente, para las colas $T_N$ habr\u00eda que resolver que:\n",
      "\n",
      "$$\\int_{N+1}^{\\infty}\\frac{1}{x} dx < \\sum_{n=N+1}^\\infty < \\int^{\\infty}_{N+1} \\frac{1}{x-1} dx,$$\n",
      "\n",
      "el problema es que siempre se cumple que:\n",
      "\n",
      "$$\\int_1^\\infty \\frac{1}{x} dx = \\infty$$\n",
      "\n",
      "Como esta serie diverge, es imposble acotarla.\n",
      "\n",
      "De modo que aqui lo unico que se acotar\u00e1 ser\u00e1 $S_N$ con los redondeos para abajo y para arriba"
     ]
    },
    {
     "cell_type": "markdown",
     "metadata": {},
     "source": [
      "Aplicando lo aprendido, se sumar\u00e1n los valores de $N$ a $1$.\n",
      "\n",
      "Para la cota superior:"
     ]
    },
    {
     "cell_type": "code",
     "collapsed": false,
     "input": [
      "N=100000\n",
      "set_rounding(Float64, RoundUp)\n",
      "up1=sum([1/(N+1-i) for i=1:N])"
     ],
     "language": "python",
     "metadata": {},
     "outputs": [
      {
       "metadata": {},
       "output_type": "pyout",
       "prompt_number": 12,
       "text": [
        "12.090146129863488"
       ]
      }
     ],
     "prompt_number": 12
    },
    {
     "cell_type": "markdown",
     "metadata": {},
     "source": [
      "Para la cota inferior:"
     ]
    },
    {
     "cell_type": "code",
     "collapsed": false,
     "input": [
      "set_rounding(Float64, RoundDown)\n",
      "down1=sum([1/(N+1-i) for i=1:N])"
     ],
     "language": "python",
     "metadata": {},
     "outputs": [
      {
       "metadata": {},
       "output_type": "pyout",
       "prompt_number": 13,
       "text": [
        "12.090146129863372"
       ]
      }
     ],
     "prompt_number": 13
    },
    {
     "cell_type": "code",
     "collapsed": false,
     "input": [
      "up1-down1"
     ],
     "language": "python",
     "metadata": {},
     "outputs": [
      {
       "metadata": {},
       "output_type": "pyout",
       "prompt_number": 15,
       "text": [
        "1.1546319456101628e-13"
       ]
      }
     ],
     "prompt_number": 15
    },
    {
     "cell_type": "markdown",
     "metadata": {},
     "source": [
      "El valor de $S_N$ se encuentra entre 12.090146129863372 y 12.090146129863488, lo cuales coinciden hasta 12 decimales."
     ]
    },
    {
     "cell_type": "markdown",
     "metadata": {},
     "source": [
      "Si se calcula la suma yendo de $1$ a $N$ se obtienen las siguientes cotas."
     ]
    },
    {
     "cell_type": "code",
     "collapsed": false,
     "input": [
      "N=100000\n",
      "set_rounding(Float64, RoundDown)\n",
      "down2=sum([1/i for i=1:N])"
     ],
     "language": "python",
     "metadata": {},
     "outputs": [
      {
       "metadata": {},
       "output_type": "pyout",
       "prompt_number": 19,
       "text": [
        "12.09014612986329"
       ]
      }
     ],
     "prompt_number": 19
    },
    {
     "cell_type": "code",
     "collapsed": false,
     "input": [
      "set_rounding(Float64, RoundUp)\n",
      "up2=sum([1/i for i=1:N])"
     ],
     "language": "python",
     "metadata": {},
     "outputs": [
      {
       "metadata": {},
       "output_type": "pyout",
       "prompt_number": 20,
       "text": [
        "12.090146129863584"
       ]
      }
     ],
     "prompt_number": 20
    },
    {
     "cell_type": "code",
     "collapsed": false,
     "input": [
      "up2-down2"
     ],
     "language": "python",
     "metadata": {},
     "outputs": [
      {
       "metadata": {},
       "output_type": "pyout",
       "prompt_number": 21,
       "text": [
        "2.9309887850104133e-13"
       ]
      }
     ],
     "prompt_number": 21
    },
    {
     "cell_type": "markdown",
     "metadata": {},
     "source": [
      "De nuevo el c\u00e1lculo que se hace sumando de $N$ a $1$ es el mejor ya que su intervalo de cotas es menor que si se suma de $1$ a $N$, los n\u00fameros son $1.1546319456101628 \\times 10 ^{-13}$ para el primero contra$2.9309887850104133\\times 10^{-13}$ para el segundo.\n",
      "\n"
     ]
    }
   ],
   "metadata": {}
  }
 ]
}