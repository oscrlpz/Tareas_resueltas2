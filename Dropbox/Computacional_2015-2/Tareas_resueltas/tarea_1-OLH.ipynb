{
 "metadata": {
  "language": "Julia",
  "name": "",
  "signature": "sha256:f4b1b9ccbf2d49a568850dfca2ce9e202fedacf2d9f27b380e0a93d5b145c697"
 },
 "nbformat": 3,
 "nbformat_minor": 0,
 "worksheets": [
  {
   "cells": [
    {
     "cell_type": "heading",
     "level": 1,
     "metadata": {},
     "source": [
      "Tarea 1"
     ]
    },
    {
     "cell_type": "heading",
     "level": 3,
     "metadata": {},
     "source": [
      "[A] Cosas que me gustan de Julia"
     ]
    },
    {
     "cell_type": "markdown",
     "metadata": {},
     "source": [
      "1) Los methods. "
     ]
    },
    {
     "cell_type": "markdown",
     "metadata": {},
     "source": [
      "2) Short-circuit evaluation."
     ]
    },
    {
     "cell_type": "markdown",
     "metadata": {},
     "source": [
      "3) Poder poner simbolos como \u2135, \u03b1, \u2136, etc."
     ]
    },
    {
     "cell_type": "heading",
     "level": 3,
     "metadata": {},
     "source": [
      "[B] Cosas que no me gustan de Julia"
     ]
    },
    {
     "cell_type": "markdown",
     "metadata": {},
     "source": [
      "1)  No me advierte cuando nombro algo como una funci\u00f3n que ya tiene determinada. Por ejemplo, si n\u00f3mbro una variable como bits y deepues llamo a la funci\u00f3n bits() no me deja usar la funci\u00f3n bits(). El problema es que me advierte de esto HASTA que se me ocurre usar la funcion bits() y depsues haber escrito muchas variables bits."
     ]
    },
    {
     "cell_type": "code",
     "collapsed": false,
     "input": [
      "bits=1"
     ],
     "language": "python",
     "metadata": {},
     "outputs": [
      {
       "metadata": {},
       "output_type": "pyout",
       "prompt_number": 2,
       "text": [
        "1"
       ]
      }
     ],
     "prompt_number": 2
    },
    {
     "cell_type": "code",
     "collapsed": false,
     "input": [
      "bits(3)"
     ],
     "language": "python",
     "metadata": {},
     "outputs": [
      {
       "ename": "LoadError",
       "evalue": "type: apply: expected Function, got Int64\nwhile loading In[3], in expression starting on line 1",
       "output_type": "pyerr",
       "traceback": [
        "type: apply: expected Function, got Int64\nwhile loading In[3], in expression starting on line 1",
        ""
       ]
      }
     ],
     "prompt_number": 3
    },
    {
     "cell_type": "markdown",
     "metadata": {},
     "source": [
      "Esto es independiente del tipo de la variable bits y vi que funciona para otras funciones tambien, por ejemplo:"
     ]
    },
    {
     "cell_type": "code",
     "collapsed": false,
     "input": [
      "log2=\"Hola\""
     ],
     "language": "python",
     "metadata": {},
     "outputs": [
      {
       "metadata": {},
       "output_type": "pyout",
       "prompt_number": 5,
       "text": [
        "\"Hola\""
       ]
      }
     ],
     "prompt_number": 5
    },
    {
     "cell_type": "code",
     "collapsed": false,
     "input": [
      "log2(2)"
     ],
     "language": "python",
     "metadata": {},
     "outputs": [
      {
       "ename": "LoadError",
       "evalue": "type: apply: expected Function, got ASCIIString\nwhile loading In[6], in expression starting on line 1",
       "output_type": "pyerr",
       "traceback": [
        "type: apply: expected Function, got ASCIIString\nwhile loading In[6], in expression starting on line 1",
        ""
       ]
      }
     ],
     "prompt_number": 6
    },
    {
     "cell_type": "markdown",
     "metadata": {},
     "source": [
      "2) Aunque es f\u00e1cil de instalar en Windows no es tan f\u00e1cil hacer que corra correctamente, principalmente porque en l\u00ednea no encuentras ayuda de gente que haya pasado por el mismo problema. Supongo que es precisamente porque nadie lo usa en Windows. En particular yo no logr\u00e9 hacer que IJulia funcionara bien, en cuanto abr\u00eda un nuevo notebook el kernel mor\u00eda y se reniciaba a cada rato. Al final termin\u00e9 instalando Ubuntu."
     ]
    }
   ],
   "metadata": {}
  }
 ]
}