{
 "metadata": {
  "language": "Julia",
  "name": "",
  "signature": "sha256:0138719a35c089e7a748d04c2aa252b5fd5e946340f7fded126f00e3a5188bce"
 },
 "nbformat": 3,
 "nbformat_minor": 0,
 "worksheets": [
  {
   "cells": [
    {
     "cell_type": "markdown",
     "metadata": {},
     "source": [
      "# 04. N\u00fameros de punto flotante y redondeo"
     ]
    },
    {
     "cell_type": "markdown",
     "metadata": {},
     "source": [
      "### 1. N\u00fameros de punto flotante y la normal IEEE 744"
     ]
    },
    {
     "cell_type": "markdown",
     "metadata": {},
     "source": [
      "Los n\u00fameros de punto flotante son n\u00fameros reales que tienen la forma:\n",
      "\n",
      "\\begin{equation}\n",
      "x = (-1)^\\sigma m \\times \\beta^e,\n",
      "\\end{equation}\n",
      "donde $\\beta\\geq 2$ es un entero mayor que define la *base*, $m = (b_0.b_1\\, b_2\\, b_3\\dots)_\\beta$ es la *mantisa* o *significante* escrita en la base $\\beta$, donde $b_i = {0, 1, \\dots, \\beta-1}$, y $\\sigma$ sirve para definir el signo. Finalmente, $e$, el exponente, es un n\u00famero entero. Para evitar *las colas infinitas de nueves*, que en binario son las de unos, uno adem\u00e1s pide que $0\\leq \\beta_i \\leq \\beta-2$ para un n\u00famero infinito de $i$'s.\n",
      "\n",
      "Este conjunto es *no numerable*, como los reales. Esta representaci\u00f3n *no es \u00fanica*.\n",
      "\n",
      "Llevar los reales a la computadora obviamente involucra hacer dos concesiones:  en primer lugar, uno debe considerar conjuntos *finitos* de n\u00fameros como modelo de los reales, y en segundo t\u00e9rmino, que la representaci\u00f3n sea *\u00fanica*.\n",
      "\n",
      "En particular, pedimos que el primer d\u00edgito $b_0$ no sea cero para todo $x$ distinto de cero; los n\u00fameros de punto flotante que satisfacen esta condici\u00f3n se llaman *normales* o *normalizados*."
     ]
    },
    {
     "cell_type": "markdown",
     "metadata": {},
     "source": [
      "Hacer que el n\u00famero de *bits* (o sea, la base es $\\beta=2$) sea finito no es suficiente considerar\n",
      "que la mantisa consista de un n\u00famero finito de entradas, sino adem\u00e1s que el rango de $e$ sea *finito*. Esto es:\n",
      "\n",
      "\\begin{eqnarray}\n",
      "m & = & (b_0.b_1\\,b_2\\,\\dots b_p),\\\\\n",
      "e & \\in & [ e_{min}, e_{max} ].\\\\\n",
      "\\end{eqnarray}\n",
      "\n",
      "Aqu\u00ed, $p$ se conoce como el n\u00famero de *d\u00edgitos significativos* (*precision* en ingl\u00e9s), que **no** hay que confundir con la precisi\u00f3n (*accuracy*).\n",
      "\n",
      "En el caso de la representaci\u00f3n binaria, dado que $b_0=1$, entonces uno *puede* obviar esto, lo que significa que el bit $b_0$ **no** se guarda. A esta convenci\u00f3n se le llama la *regla del bit escondido* (*hidden bit rule*). "
     ]
    },
    {
     "cell_type": "markdown",
     "metadata": {},
     "source": [
      "-----\n",
      "\n",
      "**Ejercicio 1** \n",
      "\n",
      "Dados $p$, $e_{min}$ y $e_{max}$, usando el sistema binario, \u00bfde cu\u00e1ntos n\u00fameros *normales* consiste el conjunto? \u00bfY si se trata de otra base $\\beta$? \u00bfEst\u00e1n uniformemente distribuidos los n\u00fameros normales? \u00bfCu\u00e1l es la distancia entre el 0 y el primer n\u00famero positivo distinto de cero?\n",
      "*NOTA* Para guiar la respuesta, uno puede jugar con $\\beta=2$, $p=2$,  $e_{min} = -1$ y $e_{max} = 2$, pero la idea es obtener expresiones generales.\n",
      "\n",
      "(Entre par\u00e9ntesis, a estas alturas del partido deben haber escrito funciones que permiten pasar de un entero a una cadena binaria equivalente, y viceversa, y de un n\u00famero de punto flotante en base 10 al equivalente en binario, y viceversa. No s\u00f3lo se trata de que estas funciones est\u00e9n escritas, sino de que nos sean *\u00fatiles*, o sea, de que den resultados que podemos confiar y usar.)\n"
     ]
    },
    {
     "cell_type": "markdown",
     "metadata": {},
     "source": [
      "\n",
      "**Respuesta 1**\n",
      "\n",
      "R: Antes que nada voy a llamar a la funci\u00f3n **b2df** que permite transformar una cadena binaria en su correspondiente decimal con punto."
     ]
    },
    {
     "cell_type": "code",
     "collapsed": false,
     "input": [
      "function posicion(x)\n",
      "p = 0\n",
      "    for n=1:length(x)\n",
      "        p+= 1\n",
      "        x[n] == '.' && break\n",
      "        if n==length(x) && x!='.' #Este if esta para el caso en que se introduzca un n\u00famero sin punto.\n",
      "                p=length(x)+1\n",
      "            end\n",
      "    end\n",
      "p\n",
      "end"
     ],
     "language": "python",
     "metadata": {},
     "outputs": [
      {
       "metadata": {},
       "output_type": "pyout",
       "prompt_number": 1,
       "text": [
        "posicion (generic function with 1 method)"
       ]
      }
     ],
     "prompt_number": 1
    },
    {
     "cell_type": "code",
     "collapsed": false,
     "input": [
      "function b2df(x)\n",
      "    if x[1]=='-' #Esto es para considerar el caso negativo\n",
      "        inicio=2  #Para iniciar en el segundo caracter de la cadena\n",
      "        signo=-1 #Para \n",
      "    else\n",
      "        inicio=1\n",
      "        signo=1\n",
      "    end\n",
      "    x=x\n",
      "    i=posicion(x)-1\n",
      "    j= posicion(x)+1\n",
      "    izq = signo*sum([(int(x[n])-48)*2 ^(i-n) for n=inicio:i]) #Esta parte es para la cadena a la izquierda del punto decimal\n",
      "    der = signo*sum([(int(x[n])-48)*2.0^(-(n-j+1)) for n=j:length(x)]) #Esta parte es para la cadena a la derecha del punto decimal.\n",
      "    res=izq+der\n",
      "    res\n",
      "end"
     ],
     "language": "python",
     "metadata": {},
     "outputs": [
      {
       "metadata": {},
       "output_type": "pyout",
       "prompt_number": 2,
       "text": [
        "b2df (generic function with 1 method)"
       ]
      }
     ],
     "prompt_number": 2
    },
    {
     "cell_type": "markdown",
     "metadata": {},
     "source": [
      "Primero har\u00e9 el caso binario que se propone como ejemplo. Para $p = 2$ y $\u03b2 = 2$  se obtienen las siguientes mantisas:"
     ]
    },
    {
     "cell_type": "code",
     "collapsed": false,
     "input": [
      "mnorm= [\"1.00\", \"1.01\", \"1.10\", \"1.11\"]"
     ],
     "language": "python",
     "metadata": {},
     "outputs": [
      {
       "metadata": {},
       "output_type": "pyout",
       "prompt_number": 3,
       "text": [
        "4-element Array{ASCIIString,1}:\n",
        " \"1.00\"\n",
        " \"1.01\"\n",
        " \"1.10\"\n",
        " \"1.11\""
       ]
      }
     ],
     "prompt_number": 3
    },
    {
     "cell_type": "markdown",
     "metadata": {},
     "source": [
      "Cada uno de estos n\u00fameros se multiplica por el exponente $2^e$, donde $e \\in [-1,0,1,2]$, y asi se obtiene el n\u00famero decimal que representa cada una de esas cadenas binarias. En el siguiente arreglo **rnorm** cada una de las entradas es un n\u00famero normal posible."
     ]
    },
    {
     "cell_type": "code",
     "collapsed": false,
     "input": [
      "rnorm=[[b2df(mnorm[n]) for n=1:length(mnorm)]*2.0^e for e=-1:2]"
     ],
     "language": "python",
     "metadata": {},
     "outputs": [
      {
       "metadata": {},
       "output_type": "pyout",
       "prompt_number": 4,
       "text": [
        "4-element Array{Any,1}:\n",
        " {0.5,0.625,0.75,0.875}\n",
        " {1.0,1.25,1.5,1.75}   \n",
        " {2.0,2.5,3.0,3.5}     \n",
        " {4.0,5.0,6.0,7.0}     "
       ]
      }
     ],
     "prompt_number": 4
    },
    {
     "cell_type": "markdown",
     "metadata": {},
     "source": [
      "De modo que estos 16 n\u00fameros, m\u00e1s sus respectivos 16 negativos, son 32 los normalizados de ese intervalo."
     ]
    },
    {
     "cell_type": "markdown",
     "metadata": {},
     "source": [
      "N\u00f3tese que la distancia que existe entre 0 y el primer positivo es de $\\Delta_0 = 0.5$. Para los n\u00fameros de la primera columna del arreglo **rnorm** la distancia entre n\u00fameros consecutivos es de $\\Delta_1=0.125$, para los dde la segunda columa es $\\Delta_2=0.25$, para los de la tercera columna es de $\\Delta_3=0.5$ y para los de la cuarta columna es de $\\Delta_4=1$."
     ]
    },
    {
     "cell_type": "markdown",
     "metadata": {},
     "source": [
      "Ahora s\u00ed, para el caso general se tiene que dados $e$, $p$ y $\\beta$, el cantidad de n\u00fameros normales formados son $2 \\times [(e_{max}-e_{min}+1) \\times \\beta ^ p]$. Por ejemplo en el caso anterior, $p=4$, $e_{max}=2$, $e_{min}=-1$ y $\\beta = 2$, entonces, $ 2 \\times [(2+1+1) \\times 2^2]=32$.\n",
      "\n",
      "La distancia del cero al primer normal ser\u00e1 de $\\Delta_0=[1.000...0]\\times 2^{e_{min}}$ y la distancia del primer normal al segundo ser\u00e1 de $\\Delta_1=[1.000...01]\\times 2^{e_{min}} - [1.000...0]\\times 2^{e_{min}}= [0.000...01]\\times 2^{e_{min}}$. Claramente la distancia entre el cero y el primer normal positivo es considerablemente m\u00e1s grande que entre el primer y segundo normales. \n",
      "\n",
      "Adem\u00e1s se pude ver que la separaci\u00f3n entre dos normales consecutivos puede variar. T\u00f3mese una valor de $e$ arbitrario y diferente a $e_{min}$ entonces la distancia entre los dos n\u00fameros consecutivos $[1.000...01]\\times 2^{e_{arb}} y [1.000...0]\\times 2^{e_{arb}}$ ser\u00e1 igual a $\\Delta_2=[0.000...01]\\times 2^{e_{arb}}$, que claramente es diferente al $\\Delta_1$, ya que $e_{min} \\neq e_{arb}$."
     ]
    },
    {
     "cell_type": "markdown",
     "metadata": {},
     "source": [
      "---\n",
      "\n",
      "**Ejercicio 2** \n",
      "\n",
      "\u00bfC\u00f3mo se representa al $x=0$ en el conjunto anterior? \u00bfFunciona la regla del bit escondido para una base $\\beta>3$?\n",
      "\n",
      "Del ejercicio 1 arriba, uno se da cuenta de que hay una distancia an\u00f3malamente grande entre 0 y el primer n\u00famero positivo. Esto trae problemas pr\u00e1cticos relacionados con la p\u00e9rdida de precisi\u00f3n cuando se tienen cantidades cercanas a cero. La manera de evitar esto es permitir que haya ciertos n\u00fameros que no son normales; a \u00e9stos se les llama *subnormales*. Un n\u00famero distinto de cero es subnormal si $b_0=0$. Esto permite llegar a cero de manera gradual al incorporar estos n\u00fameros al conjunto de n\u00fameros representables.\n"
     ]
    },
    {
     "cell_type": "markdown",
     "metadata": {},
     "source": [
      "**Respuesta 2**\n",
      "\n",
      "R: Dado que ni $(-1)^\\sigma$ o $\\beta ^e$ pueden ser igual a 0 entoces la mantisa es la que debe de ser 0. Esto se logra si cada uno de los elementos de la matisa es igual a cero, imposible con la regla del bit escondido.\n",
      "\n",
      "No funciona la regla del bit escondido, ya que existen tres posibles valores en base 3, $[0, 1, 2]$ y al tener un bit escondido no se puede saber si dicho bit tom\u00f3 el valor de 1 o 2.\n",
      "\n"
     ]
    },
    {
     "cell_type": "markdown",
     "metadata": {},
     "source": [
      "---\n",
      "\n",
      "**Ejercicio 3**\n",
      "\n",
      "En el ejemplo de juguete anterior ($\\beta=2$, $p=2$,  $e_{min} = -1$ y $e_{max} = 2$) enumera los posibles n\u00fameros subnormales. \u00bfC\u00f3mo cambia la distancia de 0 al n\u00famero positivo m\u00e1s pr\u00f3ximo? \u00bfEl espaciamiento entre los n\u00fameros subnormales, es uniforme?\n"
     ]
    },
    {
     "cell_type": "markdown",
     "metadata": {},
     "source": [
      "**Respuesta 3**\n",
      "\n",
      "R: Para n\u00fameros subnormales, las posibles mantisas se muestran en el siguiente arreglo **msub**."
     ]
    },
    {
     "cell_type": "code",
     "collapsed": false,
     "input": [
      "msub=[\"0.00\", \"0.01\", \"0.10\", \"0.11\"]"
     ],
     "language": "python",
     "metadata": {},
     "outputs": [
      {
       "metadata": {},
       "output_type": "pyout",
       "prompt_number": 5,
       "text": [
        "4-element Array{ASCIIString,1}:\n",
        " \"0.00\"\n",
        " \"0.01\"\n",
        " \"0.10\"\n",
        " \"0.11\""
       ]
      }
     ],
     "prompt_number": 5
    },
    {
     "cell_type": "markdown",
     "metadata": {},
     "source": [
      "Multiplicando el arreglo **msub** por $2^e$, queda:"
     ]
    },
    {
     "cell_type": "code",
     "collapsed": false,
     "input": [
      "rsub=[[b2df(msub[n]) for n=1:length(msub)]*2.0^e for e=-1:2]"
     ],
     "language": "python",
     "metadata": {},
     "outputs": [
      {
       "metadata": {},
       "output_type": "pyout",
       "prompt_number": 6,
       "text": [
        "4-element Array{Any,1}:\n",
        " {0.0,0.125,0.25,0.375}\n",
        " {0.0,0.25,0.5,0.75}   \n",
        " {0.0,0.5,1.0,1.5}     \n",
        " {0.0,1.0,2.0,3.0}     "
       ]
      }
     ],
     "prompt_number": 6
    },
    {
     "cell_type": "markdown",
     "metadata": {},
     "source": [
      "La primera fila del arreglo **rsub** incluye a los 4 n\u00fameros subnormales del conjunto, estos son: {0.0, 0.125, 0.25, 0.375}. En las filas 2, 3 y 4 se encuentran repetidos algunos subnormales de la fila 1 o se muestran n\u00fameros que ya se obtuvieron como normales en el arreglo **rnorm**.\n",
      "\n",
      "La separaci\u00f3n entre cada uno de estos n\u00fameros es constante y vale 0.125."
     ]
    },
    {
     "cell_type": "markdown",
     "metadata": {},
     "source": [
      "En general los n\u00fameros subnormal son aquellos en los cuales el primer bit vale 0 y cuyo exponente vale $e=e_{min}$. La condici\u00f3n del exponente se exigue ya que que para valores mayores al $e_{min}$ los n\u00fameros que se generan son normales o subnormales reptidos porque lo \u00fanico que se esta haciendo es recorrer el punto decimal.\n",
      "\n",
      "En base 2 los subnormales tienen la forma general: $(-1)^{\\sigma}[0.b_1b_2b_3...b_4]\\times 2^{e_{min}}$. Y como solo tienen un valor de exponente, la separacion entre dos subnormales conscutivos ser\u00e1 uniforme e igual a: $\\Delta_{sub}=[0.000...01]\\times 2^{e_{min}}$."
     ]
    },
    {
     "cell_type": "markdown",
     "metadata": {},
     "source": [
      "---\n",
      "\n",
      "**Ejercicio 4**\n",
      "\n",
      "\u00bfQu\u00e9 expresiones definen a $N_{min}$ y $N_{max}$, los n\u00fameros de punto flotante (positivos) m\u00ednimo y m\u00e1ximo? Obt\u00e9n los resultados para los n\u00fameros normales y los subnormales.\n",
      "\n",
      "La norma [IEEE 754](http://en.wikipedia.org/wiki/IEEE_floating_point) define el est\u00e1ndar de la representaci\u00f3n de los n\u00fameros de punto flotante en las computadoras. En particular, aqu\u00ed nos interesar\u00e1 la representaci\u00f3n *en doble precisi\u00f3n* o de 64-bits, que consiste en el primer bit que contiene el signo $\\sigma$, de un exponente $e$ de 11-bits que tiene un *sesgo* (*bias*) $B_*$ y de la mantisa que consta de $p=52$ bits (de facto, $p=53$, si se incluye la regla del bit escondido). El resultado claramente son los 64 bits de almacenamiento.\n",
      "\n",
      "El sesgo se introduce por la siguiente raz\u00f3n. Sin sesgo, el exponente $e$ var\u00eda entre 0 y $2^{E_*} - 1$, donde $E_*$ son el n\u00famero de bits asignados al exponente. Entonces, el sesgo se introduce *restando* $B_* = 2^{E_*-1} - 1$ del exponente, lo que de facto hace que el rango del exponente sea $e \\in [-2^{E_*-1} + 1, 2^{E_*-1}]$."
     ]
    },
    {
     "cell_type": "markdown",
     "metadata": {},
     "source": [
      "**Respuesta 4**\n",
      "\n",
      "R: En el caso de los n\u00fameros normales:\n",
      "\n",
      "$N_{max}=(-1)^0 [1.111...1]_{2} \\times 2^{e_{max}}$; $N_{min}=(-1)^0 [1.000...0]_2 \\times 2^{e_{min}}$.\n",
      "\n",
      "En el caso de los subnormales:\n",
      "\n",
      "$N_{max}=(-1)^0 [0.111..1]_2 \\times 2^{e_{min}}$; $N_{min}=(-1)^0 [0.000...1]_2 \\times 2^{e_{min}}$."
     ]
    },
    {
     "cell_type": "markdown",
     "metadata": {},
     "source": [
      "En el caso espec\u00edfico de un n\u00famero flotante de 64 bits que sigue la norma IEE 754, los valores m\u00e1ximos y m\u00ednimos de $e$ son $e_{min}=1022$ y $e_{max}=1023$. As\u00ed que los n\u00fameros m\u00e1ximo y m\u00ednimo en el caso de los normales son:\n",
      "\n",
      "$N_{max}=(-1)^0 [1.1111111111111111111111111111111111111111111111111111]_{2} \\times 2^{1023} = 1.7976931348623157 \\times 10^{308}$, \n",
      "\n",
      "$N_{min}=(-1)^0 [1.0000000000000000000000000000000000000000000000000000]_2 \\times 2^{-1022} = 2.2250738585072014 \\times 10^{-308}$.\n",
      "\n",
      "\n",
      "En el caso de los subnormales:\n",
      "\n",
      "$N_{max}=(-1)^0 [0.1111111111111111111111111111111111111111111111111111]_2 \\times 2^{-1022}=2.225073858507201\\times 10^{-308}\n",
      "$,\n",
      "\n",
      "$N_{min}=(-1)^0 [0.0000000000000000000000000000000000000000000000000001]_2  \\times 2^{-1022}= 5.0 \\times 10^{-324}$.\n"
     ]
    },
    {
     "cell_type": "markdown",
     "metadata": {},
     "source": [
      "---\n",
      "\n",
      "**Ejercicio 5**\n",
      "\n",
      "Usando `bits` y un poco de imaginaci\u00f3n, cu\u00e1les son las reglas para representar\n",
      "- $x=$`NaN`\n",
      "\n",
      "- $x=$`Inf`\n",
      "\n",
      "- un n\u00famero $x>0$ *normal*\n",
      "\n",
      "- un n\u00famero $x$ *subnormal*\n",
      "\n",
      "- $x=0.0$ y $x = -0.0$"
     ]
    },
    {
     "cell_type": "markdown",
     "metadata": {},
     "source": [
      "**Respuesta 5**\n",
      "\n",
      "R: Antes que nada definir\u00e9 la funci\u00f3n **iee** que me descompone los bits de un Float64 en sus distintas partes y me indica los valores, del signo, mantisa y exponente. La funci\u00f3n se muestra a continuaci\u00f3n:"
     ]
    },
    {
     "cell_type": "code",
     "collapsed": false,
     "input": [
      "function ieee(x)\n",
      "    y=bits(x)\n",
      "\n",
      "    # El siguiente If esta para diferenciar entre n\u00fameros subnormales y normales\n",
      "    if y[2:12] ==\"00000000000\"\n",
      "        e=-1022\n",
      "        hiddenbit=\"0.\"\n",
      "        println(\"El n\u00famero \",x,\" es subnormal\")\n",
      "    else\n",
      "        e=b2df(y[2:12])-1023\n",
      "        hiddenbit=\"1.\"\n",
      "        println(\"El n\u00famero \", x ,\" es normal\")\n",
      "    end\n",
      "    \n",
      "    num=b2df(hiddenbit*y[13:end])*2.0^e\n",
      "    error=num-x  \n",
      "    \n",
      "    println(\"El signo es, \u03c3=\", y[1])\n",
      "    println(\"Los 11 bits del exponente son:\", y[2:12],\", donde en base 10 e=\",e)\n",
      "    println(\"La mantisa es:\", y[13:end], \" que en base 10 es:\",\" (\", b2df( hiddenbit*y[13:end]), \")\")\n",
      "    #println( num, \", \" , x,\", \", error)\n",
      "    \n",
      "    ##### Lo siguiente se lo meti para saber cuando num no sea igual a x\n",
      "    if abs(num)==abs(x) || num== Inf || error==Inf\n",
      "        println(\"La funci\u00f3n corri\u00f3 sin problemas.\")\n",
      "    else\n",
      "        println(\"Algo no sal\u00edo bien en las cuentas, checa tu funci\u00f3n.\")\n",
      "    end\n",
      "    \n",
      "end"
     ],
     "language": "python",
     "metadata": {},
     "outputs": [
      {
       "metadata": {},
       "output_type": "pyout",
       "prompt_number": 7,
       "text": [
        "ieee (generic function with 1 method)"
       ]
      }
     ],
     "prompt_number": 7
    },
    {
     "cell_type": "markdown",
     "metadata": {},
     "source": [
      "La funci\u00f3n **iee** acepta cualquier Float64 (inclusive Nan e Inf) devuelve la siguiente informaci\u00f3n:\n",
      "- Si el n\u00famero es normal o subnormal.\n",
      "- El valor del bit que corresponde al signo $\\sigma$.\n",
      "- Los 11 bits del exponente y cuanto vale $e$ en base 10.\n",
      "- Los 52 bits de la mantisa y cuanto vale en base 10.\n",
      "- Si la funci\u00f3n corr\u00edo adecuadamente. Esto lo hago comparando el Float64 que reconstruyo con la funci\u00f3n **b2df**, con el valor del Float64 que se usa como argumento de la funci\u00f3n **iee**."
     ]
    },
    {
     "cell_type": "markdown",
     "metadata": {},
     "source": [
      "Los resultados son los siguientes:\n",
      "\n",
      "- Para $x =$ `NaN`"
     ]
    },
    {
     "cell_type": "code",
     "collapsed": false,
     "input": [
      "ieee(NaN)"
     ],
     "language": "python",
     "metadata": {},
     "outputs": [
      {
       "output_type": "stream",
       "stream": "stdout",
       "text": [
        "El n\u00famero NaN"
       ]
      },
      {
       "output_type": "stream",
       "stream": "stdout",
       "text": [
        " es normal\n",
        "El signo es, \u03c3=0\n",
        "Los 11 bits del exponente son:11111111111, donde en base 10 e=1024.0\n",
        "La mantisa es:1000000000000000000000000000000000000000000000000000 que en base 10 es: (1.5)\n",
        "La funci\u00f3n corri\u00f3 sin problemas.\n"
       ]
      }
     ],
     "prompt_number": 8
    },
    {
     "cell_type": "markdown",
     "metadata": {},
     "source": [
      "Se observa que para representar el NaN lo que se hace es tomar los 11 bits del exponente como 1, lo cual da como resultado un $e=1024$, que es m\u00e1s grande que el exponente m\u00e1ximo $e_{max}=1023$. La mantisa tiene un 1 en sus primer. Un n\u00famero con \u00e9sta mantisa y exponente queda claramente fuera de los flotantes de 64 bits que se puedden representar en la norma IEEE 754."
     ]
    },
    {
     "cell_type": "markdown",
     "metadata": {},
     "source": [
      "- Para $x=$`Inf`"
     ]
    },
    {
     "cell_type": "code",
     "collapsed": false,
     "input": [
      "ieee(Inf)"
     ],
     "language": "python",
     "metadata": {},
     "outputs": [
      {
       "output_type": "stream",
       "stream": "stdout",
       "text": [
        "El n\u00famero Inf es normal\n",
        "El signo es, \u03c3=0\n",
        "Los 11 bits del exponente son:11111111111, donde en base 10 e=1024.0\n",
        "La mantisa es:0000000000000000000000000000000000000000000000000000 que en base 10 es: (1.0)\n",
        "La funci\u00f3n corri\u00f3 sin problemas.\n"
       ]
      }
     ],
     "prompt_number": 9
    },
    {
     "cell_type": "markdown",
     "metadata": {},
     "source": [
      "El `Inf` viene siendo el n\u00famero tope, aquel que sigue al Float64 m\u00e1ximo $[1.1111...1]^2\\times 10^{1023}$. Esto porque `Inf` es un n\u00famero normal que tiene puros 0's en los 52 bits de la mantisa y puros 1's en los 11 bits del exponente, lo que lo vuelve el n\u00famero $ [1.000..0]_2 \\times 10^ {1024}$. Este n\u00famero se encuentra fuera del conjunto de n\u00fameros flotantes representados por la norma IEEE en 64 bits, pero cumple que $Inf> x$ donde x es cualquier n\u00famero Float64 contable."
     ]
    },
    {
     "cell_type": "markdown",
     "metadata": {},
     "source": [
      "Es interesante ver que `-Inf` si es posible expresarlo y viene siendo el n\u00famero m\u00e1s negativo que se puede representar, de modo que siempre se cumple que `Inf`$< x $ donde $x$ es cualquier n\u00famero Float64 ."
     ]
    },
    {
     "cell_type": "code",
     "collapsed": false,
     "input": [
      "ieee(-Inf)"
     ],
     "language": "python",
     "metadata": {},
     "outputs": [
      {
       "output_type": "stream",
       "stream": "stdout",
       "text": [
        "El n\u00famero -Inf es normal\n",
        "El signo es, \u03c3=1\n",
        "Los 11 bits del exponente son:11111111111, donde en base 10 e=1024.0\n",
        "La mantisa es:0000000000000000000000000000000000000000000000000000 que en base 10 es: (1.0)\n",
        "La funci\u00f3n corri\u00f3 sin problemas.\n"
       ]
      }
     ],
     "prompt_number": 10
    },
    {
     "cell_type": "markdown",
     "metadata": {},
     "source": [
      "- Para un n\u00famero $x>0$, normal:"
     ]
    },
    {
     "cell_type": "code",
     "collapsed": false,
     "input": [
      "ieee(25.5)"
     ],
     "language": "python",
     "metadata": {},
     "outputs": [
      {
       "output_type": "stream",
       "stream": "stdout",
       "text": [
        "El n\u00famero 25.5 es normal\n",
        "El signo es, \u03c3=0\n",
        "Los 11 bits del exponente son:10000000011, donde en base 10 e=4.0\n",
        "La mantisa es:1001100000000000000000000000000000000000000000000000 que en base 10 es: (1.59375)\n",
        "La funci\u00f3n corri\u00f3 sin problemas.\n"
       ]
      }
     ],
     "prompt_number": 11
    },
    {
     "cell_type": "markdown",
     "metadata": {},
     "source": [
      "A continuaci\u00f3n pongo el an\u00e1lsis de los Float64 m\u00e1ximo y m\u00ednimo mayores a cero. Se puede checar que coinciden con lo que hab\u00eda escrito en la respuesta del **ejercicio 4**."
     ]
    },
    {
     "cell_type": "code",
     "collapsed": false,
     "input": [
      "ieee(realmax(Float64))"
     ],
     "language": "python",
     "metadata": {},
     "outputs": [
      {
       "output_type": "stream",
       "stream": "stdout",
       "text": [
        "El n\u00famero 1.7976931348623157e308 es normal\n",
        "El signo es, \u03c3=0\n",
        "Los 11 bits del exponente son:11111111110, donde en base 10 e=1023.0\n",
        "La mantisa es:1111111111111111111111111111111111111111111111111111 que en base 10 es: (1.9999999999999998)\n",
        "La funci\u00f3n corri\u00f3 sin problemas.\n"
       ]
      }
     ],
     "prompt_number": 12
    },
    {
     "cell_type": "code",
     "collapsed": false,
     "input": [
      "ieee(realmin(Float64))"
     ],
     "language": "python",
     "metadata": {},
     "outputs": [
      {
       "output_type": "stream",
       "stream": "stdout",
       "text": [
        "El n\u00famero 2.2250738585072014e-308 es normal\n",
        "El signo es, \u03c3=0\n",
        "Los 11 bits del exponente son:00000000001, donde en base 10 e=-1022.0\n",
        "La mantisa es:0000000000000000000000000000000000000000000000000000 que en base 10 es: (1.0)\n",
        "La funci\u00f3n corri\u00f3 sin problemas.\n"
       ]
      }
     ],
     "prompt_number": 13
    },
    {
     "cell_type": "markdown",
     "metadata": {},
     "source": [
      "- Para un n\u00famero $x$ subnormal:"
     ]
    },
    {
     "cell_type": "code",
     "collapsed": false,
     "input": [
      "ieee(0.125e-320)"
     ],
     "language": "python",
     "metadata": {},
     "outputs": [
      {
       "output_type": "stream",
       "stream": "stdout",
       "text": [
        "El n\u00famero 1.25e-321 es subnormal\n",
        "El signo es, \u03c3=0\n",
        "Los 11 bits del exponente son:00000000000, donde en base 10 e=-1022\n",
        "La mantisa es:0000000000000000000000000000000000000000000011111101 que en base 10 es: (5.617728504603292e-14)\n",
        "La funci\u00f3n corri\u00f3 sin problemas.\n"
       ]
      }
     ],
     "prompt_number": 14
    },
    {
     "cell_type": "markdown",
     "metadata": {},
     "source": [
      "N\u00f3tese como la caracteristica que define a un\u00famero subnormal es que lso 11 bits de sus exponente son 0's."
     ]
    },
    {
     "cell_type": "markdown",
     "metadata": {},
     "source": [
      "\n",
      "\n",
      "- Para $x=0.0$ y $x=-0.0$:"
     ]
    },
    {
     "cell_type": "code",
     "collapsed": false,
     "input": [
      "ieee(0.0)"
     ],
     "language": "python",
     "metadata": {},
     "outputs": [
      {
       "output_type": "stream",
       "stream": "stdout",
       "text": [
        "El n\u00famero 0.0 es subnormal\n",
        "El signo es, \u03c3=0\n",
        "Los 11 bits del exponente son:00000000000, donde en base 10 e=-1022\n",
        "La mantisa es:0000000000000000000000000000000000000000000000000000 que en base 10 es: (0.0)\n",
        "La funci\u00f3n corri\u00f3 sin problemas.\n"
       ]
      }
     ],
     "prompt_number": 15
    },
    {
     "cell_type": "code",
     "collapsed": false,
     "input": [
      "ieee(-0.0)"
     ],
     "language": "python",
     "metadata": {},
     "outputs": [
      {
       "output_type": "stream",
       "stream": "stdout",
       "text": [
        "El n\u00famero -0.0 es subnormal\n",
        "El signo es, \u03c3=1\n",
        "Los 11 bits del exponente son:00000000000, donde en base 10 e=-1022\n",
        "La mantisa es:0000000000000000000000000000000000000000000000000000 que en base 10 es: (0.0)\n",
        "La funci\u00f3n corri\u00f3 sin problemas.\n"
       ]
      }
     ],
     "prompt_number": 16
    },
    {
     "cell_type": "markdown",
     "metadata": {},
     "source": [
      "Se observa que s\u00ed existe una diferencia de signos entre ambos 0's. Adem\u00e1s los 11 bits del signo son 0's, lo que hace que $\\pm 0.0$ sea un n\u00famero subnormal."
     ]
    },
    {
     "cell_type": "markdown",
     "metadata": {},
     "source": [
      "---\n",
      "\n",
      "**Ejercicio 6**\n",
      "\n",
      "- Dado que los n\u00fameros de punto flotante son *finitos*, construye la representaci\u00f3n decimal de dos n\u00fameros normales de punto flotante *consecutivos*, y dos subnormales consecutivos.\n",
      "\n",
      "- \u00bfCu\u00e1l es la representaci\u00f3n binaria del promedio de esos dos n\u00fameros? \u00bfQu\u00e9 obtienes a partir de tus programas?\n",
      "\n",
      "- \u00bfCu\u00e1l es la representaci\u00f3n binaria de la diferencia?"
     ]
    },
    {
     "cell_type": "markdown",
     "metadata": {},
     "source": [
      "**Respuesta 6**\n",
      "\n",
      "Para ayudarme defin\u00ed la funci\u00f3n **flota**, que muestro a continuaci\u00f3n."
     ]
    },
    {
     "cell_type": "code",
     "collapsed": false,
     "input": [
      "function flota(\u03c3,m,e)\n",
      "    if e ==\"00000000000\"\n",
      "        ex=-1022\n",
      "        hiddenbit=\"0.\"\n",
      "        println(\"El n\u00famero es subnormal\")\n",
      "    else\n",
      "        ex=b2df(e)-1023\n",
      "        hiddenbit=\"1.\"\n",
      "        println(\"El n\u00famero es normal\")\n",
      "    end\n",
      "    (-1)^\u03c3*b2df(hiddenbit*m)*2.0^ex\n",
      "end\n",
      "    "
     ],
     "language": "python",
     "metadata": {},
     "outputs": [
      {
       "metadata": {},
       "output_type": "pyout",
       "prompt_number": 17,
       "text": [
        "flota (generic function with 1 method)"
       ]
      }
     ],
     "prompt_number": 17
    },
    {
     "cell_type": "markdown",
     "metadata": {},
     "source": [
      "La funci\u00f3n **flota** me construye un n\u00famero Float64 d\u00e1ndole los bits que los forman. **flota** es funci\u00f3n de 3 variables, $\\sigma$, $m$ y $e$. En $\\sigma$ se introduce el valor del bit que determina el signo del flotante, 0 para psitivo 1 para negativo. En $m$ se introducen los 52 bits de la mantisa, sin incuir el *hidden bit*. En $e$ se introducen los 11 bits del exponente. El valor del *hidden bit* se determina autom\u00e1ticamente cuando se introduce la cadena del exponente, si la cadena es de puros 0's (el caso de un n\u00famero subnormal) entonces el *hidden bit* valdra 0, de lo contrario vale 1. "
     ]
    },
    {
     "cell_type": "markdown",
     "metadata": {},
     "source": [
      "En general dos consecutivos normales se escriben como:\n",
      "\n",
      "$n_1=[1.b_1b_2b_3\\dots b_i=1~ b_{i+1}=0 \\dots b_{52}]_2 \\times 2^e$\n",
      "\n",
      "$n_2= n_1 + [0.000\\dots b_{52}=1]_2\\times 2^e =([1.b_1b_2b_3\\dots b_i=1~ b_{i+1}=0 \\dots b_{52}]_2 + [0.000\\dots b_{52}=1]_2)\\times 2^e$,\n",
      "\n",
      "donde $[0.000\\dots b_{52}=1]_2\\times 2^e$ es el el valor de separaci\u00f3n m\u00e1s peque\u00f1a entre dos n\u00fameros, y por lo tanto n\u00fameros consecutivos.\n",
      "\n",
      "El promedio es:\n",
      "\n",
      "$\\frac{n_1+n_2}{2}=( 2 \\times[1.b_1b_2b_3\\dots b_i=1~ b_{i+1}=0 \\dots b_{52}]_2 + [0.000\\dots b_{52}=1]_2)\\times 2^e \\times 2^{-1}= [1.b_1b_2b_3\\dots b_i=1~ b_{i+1}=0 \\dots b_{52}]_2 \\times 2^e + [0.000\\dots b_{52}=1]_2 \\times 2^{e-1}= n_1 + [0.000\\dots b_{52}=1]_2 \\times 2^{e-1}$\n",
      "\n",
      "\n",
      "Entonces el promedio es igual a $n_1 + [0.000\\dots b_{52}=1]_2 \\times 2^{e-1}$. Pero ya se habia dicho que la separaci\u00f3n m\u00e1s peque\u00f1a que se podia representar era un paso de $[0.000\\dots b_{52}=1]_2 \\times 2^e$ de modo que la cantidad $[0.000\\dots b_{52}=1]_2 \\times 2^{e-1}$, que es la separaci\u00f3n entre $n_1$ y el promedio no es posible de representar en Float64."
     ]
    },
    {
     "cell_type": "markdown",
     "metadata": {},
     "source": [
      "Como ejemplo, para el caso de dos n\u00fameros normales consecutivos encontr\u00e9 a los siguientes dos normales,* norm1 *y *norm2*:"
     ]
    },
    {
     "cell_type": "code",
     "collapsed": false,
     "input": [
      "norm1=flota(0,\"0000000000000000000000000000000000000000000000000000\",\"10000000011\")"
     ],
     "language": "python",
     "metadata": {},
     "outputs": [
      {
       "output_type": "stream",
       "stream": "stdout",
       "text": [
        "El n\u00famero es normal\n"
       ]
      },
      {
       "metadata": {},
       "output_type": "pyout",
       "prompt_number": 18,
       "text": [
        "16.0"
       ]
      }
     ],
     "prompt_number": 18
    },
    {
     "cell_type": "code",
     "collapsed": false,
     "input": [
      "norm2=flota(0,\"0000000000000000000000000000000000000000000000000001\",\"10000000011\")"
     ],
     "language": "python",
     "metadata": {},
     "outputs": [
      {
       "output_type": "stream",
       "stream": "stdout",
       "text": [
        "El n\u00famero es normal"
       ]
      },
      {
       "output_type": "stream",
       "stream": "stdout",
       "text": [
        "\n"
       ]
      },
      {
       "metadata": {},
       "output_type": "pyout",
       "prompt_number": 19,
       "text": [
        "16.000000000000004"
       ]
      }
     ],
     "prompt_number": 19
    },
    {
     "cell_type": "markdown",
     "metadata": {},
     "source": [
      "Que al sacar su promedio se obtiene que:"
     ]
    },
    {
     "cell_type": "code",
     "collapsed": false,
     "input": [
      "promnorm=(norm1+norm2)/2"
     ],
     "language": "python",
     "metadata": {},
     "outputs": [
      {
       "metadata": {},
       "output_type": "pyout",
       "prompt_number": 20,
       "text": [
        "16.0"
       ]
      }
     ],
     "prompt_number": 20
    },
    {
     "cell_type": "markdown",
     "metadata": {},
     "source": [
      "Se observa que el promedio se redondea hacia *norm1*. Esto se entiende ya que el promedio es un n\u00famero entre *norm1* y *norm2* y no existe Float64 entre estos dos n\u00fameros."
     ]
    },
    {
     "cell_type": "markdown",
     "metadata": {},
     "source": [
      "Para el caso de dos subnormales consecutivos sucede algo similar:\n",
      "\n",
      "\n",
      "$n_1=[0.b_1b_2b_3\\dots b_i=1~ b_{i+1}=0 \\dots b_{52}]_2 \\times 2^{e_{min}}$\n",
      "\n",
      "$n_2=([0.b_1b_2b_3\\dots b_i=1~ b_{i+1}=0 \\dots b_{52}]_2 + [0.000\\dots b_{52}=1]_2)\\times 2^{e_{min}}$,\n",
      "\n",
      "su promedio ser\u00eda:\n",
      "\n",
      "$\\frac{n_1+n_2}{2}=( 2 \\times[0.b_1b_2b_3\\dots b_i=1~ b_{i+1}=0 \\dots b_{52}]_2 + [0.000\\dots b_{52}=1]_2)\\times 2^{e_{min}} \\times 2^{-1}= [0.b_1b_2b_3\\dots b_i=1~ b_{i+1}=0 \\dots b_{52}]_2 \\times 2^{e_{min}}+ [0.000\\dots b_{52}=1]_2 \\times 2^{e_{min}-1}$.\n",
      "\n",
      "El exponente $2^{e_{min}-1}$ es imposible de representar ya que $e$ s\u00f3lo puede tomar valores que est\u00e9n entre $e_{min}$ y $e_{max}$."
     ]
    },
    {
     "cell_type": "markdown",
     "metadata": {},
     "source": [
      "Como ejemplo t\u00f3mense los siguientes subnormales consecutivos:"
     ]
    },
    {
     "cell_type": "code",
     "collapsed": false,
     "input": [
      "sub1=flota(0,\"0000000000000000000000000000000000000000000000000001\",\"00000000000\")"
     ],
     "language": "python",
     "metadata": {},
     "outputs": [
      {
       "output_type": "stream",
       "stream": "stdout",
       "text": [
        "El n\u00famero es subnormal\n"
       ]
      },
      {
       "metadata": {},
       "output_type": "pyout",
       "prompt_number": 21,
       "text": [
        "5.0e-324"
       ]
      }
     ],
     "prompt_number": 21
    },
    {
     "cell_type": "code",
     "collapsed": false,
     "input": [
      "sub2=flota(0,\"0000000000000000000000000000000000000000000000000010\",\"00000000000\")"
     ],
     "language": "python",
     "metadata": {},
     "outputs": [
      {
       "output_type": "stream",
       "stream": "stdout",
       "text": [
        "El n\u00famero es subnormal\n"
       ]
      },
      {
       "metadata": {},
       "output_type": "pyout",
       "prompt_number": 22,
       "text": [
        "1.0e-323"
       ]
      }
     ],
     "prompt_number": 22
    },
    {
     "cell_type": "code",
     "collapsed": false,
     "input": [
      "promsub=(sub2+sub1)/2"
     ],
     "language": "python",
     "metadata": {},
     "outputs": [
      {
       "metadata": {},
       "output_type": "pyout",
       "prompt_number": 23,
       "text": [
        "1.0e-323"
       ]
      }
     ],
     "prompt_number": 23
    },
    {
     "cell_type": "markdown",
     "metadata": {},
     "source": [
      "El subnormal *sub2* es consecutivo a *sub1* y al promediarlos el resultado *promsub* se redondea hacia el valor de *sub2*, ya que no hay manera de representar un subnormal entre dos subnormales consecutivos."
     ]
    },
    {
     "cell_type": "markdown",
     "metadata": {},
     "source": [
      "**No** es posible representar el promedio de dos Float64 consecutivos, normales o subnromales, ya que no existe representaci\u00f3n binaria para este n\u00famero que se mantenga dentro del esquema de la IEEE754."
     ]
    },
    {
     "cell_type": "markdown",
     "metadata": {},
     "source": [
      "En el caso de la diferencia, para normales consecutivos se tiene que:\n",
      "\n",
      "$\\Delta_{norm}=([1.b_1b_2b_3\\dots b_i=1~ b_{i+1}=0 \\dots b_{52}]_2 + [0.000\\dots b_{52}=1]_2- [1.b_1b_2b_3\\dots b_i=1~ b_{i+1}=0 \\dots b_{52}]_2 )\\times 2^e =[0.000\\dots b_{52}=1]_2 \\times 2^{e}$."
     ]
    },
    {
     "cell_type": "markdown",
     "metadata": {},
     "source": [
      "Ocupando los dos normales consecutivos obtenidos anteriormente se tiene que su diferencia es de :"
     ]
    },
    {
     "cell_type": "code",
     "collapsed": false,
     "input": [
      "\u0394norm=norm2-norm1"
     ],
     "language": "python",
     "metadata": {},
     "outputs": [
      {
       "metadata": {},
       "output_type": "pyout",
       "prompt_number": 24,
       "text": [
        "3.552713678800501e-15"
       ]
      }
     ],
     "prompt_number": 24
    },
    {
     "cell_type": "markdown",
     "metadata": {},
     "source": [
      "Esto esta raro ya que claramente la diferencia entre 16 y 16.000000000000004 es de $6\\times 10^{-15}$, no lo que aparece aqu\u00ed que es $3.552713678800501\\times 10 ^{-15}$. Para ver que suecede usemos la funci\u00f3n **ieee** en ambos n\u00fameros.\n"
     ]
    },
    {
     "cell_type": "code",
     "collapsed": false,
     "input": [
      "ieee(\u0394norm)"
     ],
     "language": "python",
     "metadata": {},
     "outputs": [
      {
       "output_type": "stream",
       "stream": "stdout",
       "text": [
        "El n\u00famero 3.552713678800501e-15 es normal\n",
        "El signo es, \u03c3=0\n",
        "Los 11 bits del exponente son:01111001111, donde en base 10 e=-48.0\n",
        "La mantisa es:0000000000000000000000000000000000000000000000000000 que en base 10 es: (1.0)\n",
        "La funci\u00f3n corri\u00f3 sin problemas.\n"
       ]
      }
     ],
     "prompt_number": 25
    },
    {
     "cell_type": "code",
     "collapsed": false,
     "input": [
      "ieee(4.0e-15)"
     ],
     "language": "python",
     "metadata": {},
     "outputs": [
      {
       "output_type": "stream",
       "stream": "stdout",
       "text": [
        "El n\u00famero 4.0e-15 es normal\n",
        "El signo es, \u03c3=0\n",
        "Los 11 bits del exponente son:01111001111, donde en base 10 e=-48.0\n",
        "La mantisa es:0010000000111010111110011110111001110101011000010110 que en base 10 es: (1.125899906842624)\n",
        "La funci\u00f3n corri\u00f3 sin problemas.\n"
       ]
      }
     ],
     "prompt_number": 26
    },
    {
     "cell_type": "markdown",
     "metadata": {},
     "source": [
      "Como se puede observar la mantisa del n\u00famero $4\\times 10^{-15}$ es periodica, por lo cual a la hora de saacr la diferencia $\\Delta_{norm}$ esta cantidad se redondea hacia la mantisa $[1.000.\\dots 0]$ que da el resultado de $ 3.552713678800501 \\times 10 ^{-15} $.\n"
     ]
    },
    {
     "cell_type": "markdown",
     "metadata": {},
     "source": [
      "Y para los subnormales:\n",
      "\n",
      "$\\Delta_{sub}= [0.000\\dots b_{52}=1]_2\\times 2^{e_{min}} $\n",
      "\n",
      "Recordemos que $e_{min}=-1022$ y que la sepraci\u00f3n entre subnormales es uniforme asi que la diferencia entre dos consecutivos ser\u00e1 la separaci\u00f3n m\u00ednima entre subnormales y valdr\u00e1:\n",
      "\n",
      "$\\Delta_{sub}= [0.000\\dots b_{52}=1]_2\\times 2^{-1022} = 5 \\times 10 ^{-324} $\n",
      "\n",
      "Tomando los subnormales consecutivos se llega a que:"
     ]
    },
    {
     "cell_type": "code",
     "collapsed": false,
     "input": [
      "\u0394sub=sub2-sub1"
     ],
     "language": "python",
     "metadata": {},
     "outputs": [
      {
       "metadata": {},
       "output_type": "pyout",
       "prompt_number": 27,
       "text": [
        "5.0e-324"
       ]
      }
     ],
     "prompt_number": 27
    },
    {
     "cell_type": "markdown",
     "metadata": {},
     "source": [
      "Que es el valor esperado."
     ]
    },
    {
     "cell_type": "markdown",
     "metadata": {},
     "source": [
      "---\n",
      "\n",
      "**Ejercicio 7** Donde *todo esto*, y mucho m\u00e1s, puede ser importante...\n",
      "\n",
      "Escribe una funci\u00f3n que eval\u00fae\n",
      "\n",
      "\\begin{equation}\n",
      "f(x,y) = 333.75 y^6 + x^2 (11 x^2 y^2 - y^6 - 121 y^4 - 2) + 5.5 y^8 + \\frac{x}{2y}\n",
      "\\end{equation}\n",
      "\n",
      "Usando esta funci\u00f3n, *demuestra* que $f(x=77617, y=33096) = -0.8273960599468214$.\n",
      "\n",
      "**NOTA** Los n\u00fameros han sido verificados y *son correctos* :-)"
     ]
    },
    {
     "cell_type": "markdown",
     "metadata": {},
     "source": [
      "**Respuesta 7**\n",
      "\n",
      "\n",
      "Escribiendo la funci\u00f3n tal cual est\u00e1 escrita arriba y con argumentos Int64, se obtiene lo siguiente:"
     ]
    },
    {
     "cell_type": "code",
     "collapsed": false,
     "input": [
      "function f1(x,y)\n",
      " 333.75*y^6 + x^2*(11*x^2*y^2 - y^6 - 121*y^4 - 2) + 5.5*y^8 + x/(2y)\n",
      "end"
     ],
     "language": "python",
     "metadata": {},
     "outputs": [
      {
       "metadata": {},
       "output_type": "pyout",
       "prompt_number": 1,
       "text": [
        "f1 (generic function with 1 method)"
       ]
      }
     ],
     "prompt_number": 1
    },
    {
     "cell_type": "code",
     "collapsed": false,
     "input": [
      "x=77617.\n",
      "y=33096."
     ],
     "language": "python",
     "metadata": {},
     "outputs": [
      {
       "metadata": {},
       "output_type": "pyout",
       "prompt_number": 2,
       "text": [
        "33096.0"
       ]
      }
     ],
     "prompt_number": 2
    },
    {
     "cell_type": "code",
     "collapsed": false,
     "input": [
      "f1(x,y)"
     ],
     "language": "python",
     "metadata": {},
     "outputs": [
      {
       "metadata": {},
       "output_type": "pyout",
       "prompt_number": 3,
       "text": [
        "-1.1805916207174113e21"
       ]
      }
     ],
     "prompt_number": 3
    },
    {
     "cell_type": "markdown",
     "metadata": {},
     "source": [
      "Este resultado difiere considerablemente del n\u00famero se\u00f1alado arriba. Para ver que sucede hay que descomponer las cantidades que se est\u00e1n sumando en la funci\u00f3n $f(x,y)$.\n",
      "\\begin{equation}\n",
      "f(x,y) = 333.75 y^6 + 11 x^4 y^2 - x^2 y^6 - 121 x^2 y^4 - 2x^2 + 5.5 y^8 + \\frac{x}{2y}.\n",
      "\\end{equation}\n",
      "\n",
      "Ordenando cada t\u00e9rmino por la magnitud de sus exponente:\n",
      "\n",
      "$x^2 y^6=7.917111341983136 \\times 10 ^{36}$,\n",
      "\n",
      "$5.5 y^8 = 7.917111340668962 \\times 10 ^{36} $,\n",
      "\n",
      "$333.75y^6=4.386057508463932 \\times 10^{29}$,\n",
      "\n",
      "$121 x^2 y^4 =8.745831527692174 \\times 10^{29} $,\n",
      "\n",
      "$11 x^4 y^2 = 4.372915764571955 \\times 10^{29}$,\n",
      "\n",
      "$2x^2 = 1.2048797378 \\times 10^{10}$,\n",
      "\n",
      "$ \\frac{x}{2y}=1.1726039400531787$.\n",
      "\n",
      "N\u00f3tese como los t\u00e9rminos m\u00e1s grandes son del orden de $10^{36}$ y con 15 cifras significativas. Esto significa que no hay resoluci\u00f3n m\u00e1s all\u00e1 de $10^{21}$. Esto coincide con el resultado obtenido de $-1.1805916207174113 \\times 10^{21}$. Los n\u00fameros que tengan ordenes de magnitud menores a $10^{21}$ se van a perder a la hora de que hacer la suma. En este caso, son justo los n\u00fameros que est\u00e1n por debajo de $10^{21}$ los que van a hacer la diferencia, para ver esto si se agrupan los n\u00fameros de ordenes grandes en positivos y negativos y se suman como Float64, resulta:\n",
      "\n",
      "$5.5 y^8+333.75 y^6+ 11 x^4 y^2 = 7.91711221656629 \\times 10^{36}$,\n",
      "\n",
      "$-x^2 y^6 - 121 x^2 y^4 = -7.91711221656629 \\times 10^{36}$.\n",
      "\n",
      "Que sean iguales hasta la cifra 15 no implica que las siguientes cifras no sean diferentes, como lo es en este caso. Para lograr operar con m\u00e1s cifras significativas lo que se har\u00e1 ser\u00e1 utilizar la funci\u00f3n * big( )* y usar la precisi\u00f3n de 256 bits.\n",
      "\n"
     ]
    },
    {
     "cell_type": "code",
     "collapsed": false,
     "input": [
      "function f(x,y)\n",
      "    333.75*big(y)^6 + big(x)^2*(11*big(x)^2*big(y)^2 - big(y)^6 - 121*big(y)^4 - 2) + 5.5*big(y)^8 + x/(2y)\n",
      "end"
     ],
     "language": "python",
     "metadata": {},
     "outputs": [
      {
       "metadata": {},
       "output_type": "pyout",
       "prompt_number": 4,
       "text": [
        "f (generic function with 1 method)"
       ]
      }
     ],
     "prompt_number": 4
    },
    {
     "cell_type": "code",
     "collapsed": false,
     "input": [
      "f(x,y)"
     ],
     "language": "python",
     "metadata": {},
     "outputs": [
      {
       "metadata": {},
       "output_type": "pyout",
       "prompt_number": 5,
       "text": [
        "-8.273960599468213050755593940266408026218414306640625e-01 with 256 bits of precision"
       ]
      }
     ],
     "prompt_number": 5
    },
    {
     "cell_type": "markdown",
     "metadata": {},
     "source": [
      "Que ya da el resultado buscado.\n",
      "\n",
      "De aqu\u00ed lo que puedo concluir es que mientras m\u00e1s grande sean los argumentos de una funci\u00f3n en comparaci\u00f3n con su resultado final, m\u00e1s grande ser\u00e1 el error causado por el redondeo de las cifras significativas. En este caso, en Float 64, la diferencia de ordenes entre argumentos y resultados era de $10^{36}$ y s\u00f3lo se contaba con 15 cifras significativas que no eran suficientes para compensar."
     ]
    },
    {
     "cell_type": "markdown",
     "metadata": {},
     "source": [
      "---\n",
      "\n",
      "**Ejercicio 8**\n",
      "\n",
      "Pensando en que vas a generar datos para hacer una gr\u00e1fica (con suficientes puntos), genera dichos datos para los *polinomios* $f(x) = (1-x)^6$ y $g(x) = x^6 -6x^5 + 15x^4 -20 x^3 + 15x^2 - 6 x + 1$, en el dominio $0.995 \\leq x \\leq 1.005$. \u00bfHay algo sorprendente en esto?"
     ]
    },
    {
     "cell_type": "markdown",
     "metadata": {},
     "source": [
      "**Respuesta 8**\n",
      "\n",
      "Primero se grafica para $f(x)=(1-x)^6$:\n",
      "\n"
     ]
    },
    {
     "cell_type": "code",
     "collapsed": false,
     "input": [
      "x = linspace(0.995,1.005); y = (1-x).^6\n",
      "plot(x,y)"
     ],
     "language": "python",
     "metadata": {},
     "outputs": [
      {
       "ename": "LoadError",
       "evalue": "plot not defined\nwhile loading In[6], in expression starting on line 2",
       "output_type": "pyerr",
       "traceback": [
        "plot not defined\nwhile loading In[6], in expression starting on line 2",
        ""
       ]
      }
     ],
     "prompt_number": 6
    },
    {
     "cell_type": "markdown",
     "metadata": {},
     "source": [
      "Y luego para $g(x) = x^6 -6x^5 + 15x^4 -20 x^3 + 15x^2 - 6 x + 1$:"
     ]
    },
    {
     "cell_type": "code",
     "collapsed": false,
     "input": [
      "using PyPlot\n",
      "x = linspace(0.995,1.005); y = x.^6-6*(x.^5)+15*(x.^4)-20*(x.^3)+15*(x.^2)-6*x+1\n",
      "plot(x, y)\n"
     ],
     "language": "python",
     "metadata": {},
     "outputs": [
      {
       "output_type": "stream",
       "stream": "stderr",
       "text": [
        "INFO: Loading help data...\n"
       ]
      },
      {
       "metadata": {},
       "output_type": "display_data",
       "png": "[encoded data removed]",
       "text": [
        "Figure(PyObject <matplotlib.figure.Figure object at 0x7f5250f6fe50>)"
       ]
      },
      {
       "metadata": {},
       "output_type": "pyout",
       "prompt_number": 7,
       "text": [
        "1-element Array{Any,1}:\n",
        " PyObject <matplotlib.lines.Line2D object at 0x7f5259ce4a10>"
       ]
      }
     ],
     "prompt_number": 7
    },
    {
     "cell_type": "markdown",
     "metadata": {},
     "source": [
      "Claramente la gr\u00e1fica de $g(x)$ tiene mucho m\u00e1s ruido/error que la de $f(x)$. A Continuaci\u00f3n explicar\u00e9 en donde se originan estos errores."
     ]
    },
    {
     "cell_type": "markdown",
     "metadata": {},
     "source": [
      "Si se aumenta el dominio de la funci\u00f3n a $0.0994 < x < 1.006$. Se obtiene la siguiente gr\u00e1fica."
     ]
    },
    {
     "cell_type": "code",
     "collapsed": false,
     "input": [
      "using PyPlot\n",
      "x = linspace(0.994,1.006); y = x.^6-6*(x.^5)+15*(x.^4)-20*(x.^3)+15*(x.^2)-6*x+1\n",
      "plot(x, y)"
     ],
     "language": "python",
     "metadata": {},
     "outputs": [
      {
       "metadata": {},
       "output_type": "display_data",
       "png": "[encoded data removed]",
       "text": [
        "Figure(PyObject <matplotlib.figure.Figure object at 0x7f523a105550>)"
       ]
      },
      {
       "metadata": {},
       "output_type": "pyout",
       "prompt_number": 8,
       "text": [
        "1-element Array{Any,1}:\n",
        " PyObject <matplotlib.lines.Line2D object at 0x7f5239a432d0>"
       ]
      }
     ],
     "prompt_number": 8
    },
    {
     "cell_type": "markdown",
     "metadata": {},
     "source": [
      "Se observa que en estas regiones el ruido empieza a atenuarse. Aumentando aun mas el dominio, ahora a $-11<x<13$:"
     ]
    },
    {
     "cell_type": "code",
     "collapsed": false,
     "input": [
      "using PyPlot\n",
      "x = linspace(-11,13); y = x.^6-6*(x.^5)+15*(x.^4)-20*(x.^3)+15*(x.^2)-6*x+1\n",
      "plot(x, y)"
     ],
     "language": "python",
     "metadata": {},
     "outputs": [
      {
       "metadata": {},
       "output_type": "display_data",
       "png": "[encoded data removed]",
       "text": [
        "Figure(PyObject <matplotlib.figure.Figure object at 0x7f5239a79250>)"
       ]
      },
      {
       "metadata": {},
       "output_type": "pyout",
       "prompt_number": 9,
       "text": [
        "1-element Array{Any,1}:\n",
        " PyObject <matplotlib.lines.Line2D object at 0x7f5239906490>"
       ]
      }
     ],
     "prompt_number": 9
    },
    {
     "cell_type": "markdown",
     "metadata": {},
     "source": [
      "Lo que se observa es una disminuci\u00f3n del ruido que hab\u00eda en dominio menores. Esto se debe a que el error aparece por el redondeo del cual ya se habl\u00f3 en el **ejercicio 7**, si se tienen argumentos dentro de la funci\u00f3n con magnitud mayor que el resultado de dicha funci\u00f3n entonces, el redondeo introducir\u00e1 errores. \n",
      "\n",
      "Por ejemplo, en el dominio $0.995 < x < 1.005$ la funci\u00f3n $g(x)$ tiene argumentos que son 14 ordenes de magnitud m\u00e1s grande que el resultado de $g(x)$. Para otros domoinios esta condici\u00f3n ya no se cumple y el redondeo no afecta a los resultados. Para f(x) no hay problema ya que el unico argumento que tiene es (1-x). Comparando amabas funciones en el dominio  $0.995 < x < 1.005$, se tiene que para $f(x)$ la diferencia es de 10 ordenes de magnitud, menor que para $g(x)$."
     ]
    },
    {
     "cell_type": "markdown",
     "metadata": {},
     "source": [
      "---\n",
      "\n",
      "**Ejercicio 9**\n",
      "\n",
      "Explica por qu\u00e9 es mala idea usar como paso de integraci\u00f3n $0.1$ o $0.01$, u otros valores de este estilo. \u00bfQu\u00e9 pasa con el tiempo que vas calculando en cada paso de la integraci\u00f3n?"
     ]
    },
    {
     "cell_type": "markdown",
     "metadata": {},
     "source": [
      "Porque $0.1$ y $0.001$ no tienen representaci\u00f3n exacta en binario, sino que tienen mantisas peri\u00f3dicas. Como lo muestro a continuaci\u00f3n:"
     ]
    },
    {
     "cell_type": "code",
     "collapsed": false,
     "input": [
      "ieee(0.1)"
     ],
     "language": "python",
     "metadata": {},
     "outputs": [
      {
       "ename": "LoadError",
       "evalue": "ieee not defined\nwhile loading In[10], in expression starting on line 1",
       "output_type": "pyerr",
       "traceback": [
        "ieee not defined\nwhile loading In[10], in expression starting on line 1",
        ""
       ]
      }
     ],
     "prompt_number": 10
    },
    {
     "cell_type": "code",
     "collapsed": false,
     "input": [
      "ieee(0.001)"
     ],
     "language": "python",
     "metadata": {},
     "outputs": [
      {
       "ename": "LoadError",
       "evalue": "ieee not defined\nwhile loading In[11], in expression starting on line 1",
       "output_type": "pyerr",
       "traceback": [
        "ieee not defined\nwhile loading In[11], in expression starting on line 1",
        ""
       ]
      }
     ],
     "prompt_number": 11
    },
    {
     "cell_type": "markdown",
     "metadata": {},
     "source": [
      "Entonces cada vez que se realiza una operaci\u00f3n con estos valores, \u00e9stos se redonearan, perdiendo informaci\u00f3n. Esto se hace evidente en los siguientes ejemplos:"
     ]
    },
    {
     "cell_type": "code",
     "collapsed": false,
     "input": [
      "5.5-5.4"
     ],
     "language": "python",
     "metadata": {},
     "outputs": [
      {
       "metadata": {},
       "output_type": "pyout",
       "prompt_number": 12,
       "text": [
        "0.09999999999999964"
       ]
      }
     ],
     "prompt_number": 12
    },
    {
     "cell_type": "markdown",
     "metadata": {},
     "source": [
      "Claramente esta operaci\u00f3n deberia de tener como resultado $0.1$. Sin embargo la \u00e1aquina redondea la mantisa periodica de la representaci\u00f3n binaria de $0.1$ al valor de mantisa que se muestra a continuaci\u00f3n:"
     ]
    },
    {
     "cell_type": "code",
     "collapsed": false,
     "input": [
      "ieee(0.09999999999999964)"
     ],
     "language": "python",
     "metadata": {},
     "outputs": [
      {
       "ename": "LoadError",
       "evalue": "ieee not defined\nwhile loading In[13], in expression starting on line 1",
       "output_type": "pyerr",
       "traceback": [
        "ieee not defined\nwhile loading In[13], in expression starting on line 1",
        ""
       ]
      }
     ],
     "prompt_number": 13
    },
    {
     "cell_type": "markdown",
     "metadata": {},
     "source": [
      "Como se puede ver la mantisa anterior no es periodica y es el redondeo de la mantisa de $0.1$ en binario, que se obtiene al truncarla. Algo completemente an\u00e1logo ocurre para $0.01$ y cualquier otro n\u00famero cuya mantisa sea periodica."
     ]
    }
   ],
   "metadata": {}
  }
 ]
}